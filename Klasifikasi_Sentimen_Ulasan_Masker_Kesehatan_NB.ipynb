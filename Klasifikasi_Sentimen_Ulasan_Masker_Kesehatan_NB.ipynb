{
  "metadata": {
    "kernelspec": {
      "language": "python",
      "display_name": "Python 3",
      "name": "python3"
    },
    "language_info": {
      "pygments_lexer": "ipython3",
      "nbconvert_exporter": "python",
      "version": "3.6.4",
      "file_extension": ".py",
      "codemirror_mode": {
        "name": "ipython",
        "version": 3
      },
      "name": "python",
      "mimetype": "text/x-python"
    },
    "colab": {
      "name": "Klasifikasi Sentimen Ulasan Masker Kesehatan - NB",
      "provenance": [],
      "include_colab_link": true
    }
  },
  "nbformat_minor": 0,
  "nbformat": 4,
  "cells": [
    {
      "cell_type": "markdown",
      "metadata": {
        "id": "view-in-github",
        "colab_type": "text"
      },
      "source": [
        "<a href=\"https://colab.research.google.com/github/zulfanaliy/TM/blob/main/Klasifikasi_Sentimen_Ulasan_Masker_Kesehatan_NB.ipynb\" target=\"_parent\"><img src=\"https://colab.research.google.com/assets/colab-badge.svg\" alt=\"Open In Colab\"/></a>"
      ]
    },
    {
      "cell_type": "markdown",
      "source": [
        "# Import dataset yang telah dilakukan text preprocessing\n",
        "> Pada Bagian ke-1 ini saya akan melakukan labeling dan pemrosesan prediksi Klasifikasi Analisis Sentimen Ulasan Masker Kesehatan di Aplikasi Tokopedia Menggunakan Metode Naive Bayes"
      ],
      "metadata": {
        "id": "zmzfyWzvLO-L",
        "papermill": {
          "duration": 0.056571,
          "end_time": "2023-07-12T12:59:48.296612",
          "exception": false,
          "start_time": "2023-07-12T12:59:48.240041",
          "status": "completed"
        },
        "tags": []
      }
    },
    {
      "cell_type": "code",
      "source": [
        "import pandas as pd\n",
        "import matplotlib.pyplot as plt"
      ],
      "metadata": {
        "id": "R9CrjG_iJWna",
        "papermill": {
          "duration": 0.071526,
          "end_time": "2023-07-12T12:59:48.425131",
          "exception": false,
          "start_time": "2023-07-12T12:59:48.353605",
          "status": "completed"
        },
        "tags": [],
        "execution": {
          "iopub.status.busy": "2023-07-13T06:53:43.063686Z",
          "iopub.execute_input": "2023-07-13T06:53:43.064104Z",
          "iopub.status.idle": "2023-07-13T06:53:43.069788Z",
          "shell.execute_reply.started": "2023-07-13T06:53:43.064071Z",
          "shell.execute_reply": "2023-07-13T06:53:43.068411Z"
        },
        "trusted": true
      },
      "execution_count": 1,
      "outputs": []
    },
    {
      "cell_type": "code",
      "source": [
        "pip install xlrd"
      ],
      "metadata": {
        "papermill": {
          "duration": 10.210321,
          "end_time": "2023-07-12T12:59:58.697918",
          "exception": false,
          "start_time": "2023-07-12T12:59:48.487597",
          "status": "completed"
        },
        "tags": [],
        "execution": {
          "iopub.status.busy": "2023-07-13T06:53:43.07213Z",
          "iopub.execute_input": "2023-07-13T06:53:43.072647Z",
          "iopub.status.idle": "2023-07-13T06:53:56.34268Z",
          "shell.execute_reply.started": "2023-07-13T06:53:43.072602Z",
          "shell.execute_reply": "2023-07-13T06:53:56.341517Z"
        },
        "trusted": true,
        "id": "ek8-t-OW8pBz",
        "outputId": "84b2cb48-be04-47b5-88ec-f4b6e9507194",
        "colab": {
          "base_uri": "https://localhost:8080/"
        }
      },
      "execution_count": 2,
      "outputs": [
        {
          "output_type": "stream",
          "name": "stdout",
          "text": [
            "Requirement already satisfied: xlrd in /usr/local/lib/python3.10/dist-packages (2.0.1)\n"
          ]
        }
      ]
    },
    {
      "cell_type": "markdown",
      "source": [
        "# Menampilkan Dataset"
      ],
      "metadata": {
        "papermill": {
          "duration": 0.05925,
          "end_time": "2023-07-12T12:59:58.819002",
          "exception": false,
          "start_time": "2023-07-12T12:59:58.759752",
          "status": "completed"
        },
        "tags": [],
        "id": "kilwVX6e8pB0"
      }
    },
    {
      "cell_type": "code",
      "source": [
        "import pandas as pd\n",
        "\n",
        "data = pd.read_excel(\"tokped_text.xlsx\", index_col=0)\n",
        "\n",
        "data.head()\n"
      ],
      "metadata": {
        "id": "k0jgO2yuJYkY",
        "outputId": "22f1b887-8cb4-425d-ae5d-437781270649",
        "papermill": {
          "duration": 0.207902,
          "end_time": "2023-07-12T12:59:59.087842",
          "exception": true,
          "start_time": "2023-07-12T12:59:58.87994",
          "status": "failed"
        },
        "tags": [],
        "execution": {
          "iopub.status.busy": "2023-07-13T06:53:56.345694Z",
          "iopub.execute_input": "2023-07-13T06:53:56.346086Z",
          "iopub.status.idle": "2023-07-13T06:53:56.591571Z",
          "shell.execute_reply.started": "2023-07-13T06:53:56.346049Z",
          "shell.execute_reply": "2023-07-13T06:53:56.590471Z"
        },
        "trusted": true,
        "colab": {
          "base_uri": "https://localhost:8080/",
          "height": 625
        }
      },
      "execution_count": 3,
      "outputs": [
        {
          "output_type": "execute_result",
          "data": {
            "text/plain": [
              "                                         Nama_Produk       Akun  \\\n",
              "1  Masker KF94 4 Ply Isi 10 Pcs Masker Medis Kese...  Stephanus   \n",
              "2  Masker KF94 4 Ply Isi 10 Pcs Masker Medis Kese...       Yati   \n",
              "3  Masker KF94 4 Ply Isi 10 Pcs Masker Medis Kese...      Husin   \n",
              "4  Masker KF94 4 Ply Isi 10 Pcs Masker Medis Kese...      Febby   \n",
              "5  Masker KF94 4 Ply Isi 10 Pcs Masker Medis Kese...     Rahmat   \n",
              "\n",
              "                                              Ulasan  rate  \\\n",
              "1  dua kali beli sayang lambat respon order pagi ...     3   \n",
              "2                                  bagus kirim cepat     5   \n",
              "3                                barang sesuai pesan     5   \n",
              "4                                        panas pakai     2   \n",
              "5  barang sesuai minta bagus komunikasi jual beli...     3   \n",
              "\n",
              "                                     Ulasan_tokenize  \\\n",
              "1  ['yang', 'dua', 'kali', 'beli', 'sayang', 'lam...   \n",
              "2                        ['bagus', 'kirim', 'cepat']   \n",
              "3                     ['barang', 'sesuai', 'pesan']    \n",
              "4                                 ['panas', 'pakai']   \n",
              "5  ['barang', 'sesuai', 'minta', 'bagus', 'komuni...   \n",
              "\n",
              "                                   Ulasan_normalized  \\\n",
              "1  ['yang', 'dua', 'kali', 'beli', 'sayang', 'lam...   \n",
              "2                        ['bagus', 'kirim', 'cepat']   \n",
              "3                      ['barang', 'sesuai', 'pesan']   \n",
              "4                                 ['panas', 'pakai']   \n",
              "5  ['barang', 'sesuai', 'minta', 'bagus', 'komuni...   \n",
              "\n",
              "                               Ulasan_stop_removed\\t  \\\n",
              "1  ['dua', 'kali', 'beli', 'sayang', 'lambat', 'r...   \n",
              "2                        ['bagus', 'kirim', 'cepat']   \n",
              "3                      ['barang', 'sesuai', 'pesan']   \n",
              "4                                 ['panas', 'pakai']   \n",
              "5  ['barang', 'sesuai', 'minta', 'bagus', 'komuni...   \n",
              "\n",
              "                                      Ulasan_Stemmed  \\\n",
              "1  ['dua', 'kali', 'beli', 'sayang', 'lambat', 'r...   \n",
              "2                        ['bagus', 'kirim', 'cepat']   \n",
              "3                      ['barang', 'sesuai', 'pesan']   \n",
              "4                                 ['panas', 'pakai']   \n",
              "5  ['barang', 'sesuai', 'minta', 'bagus', 'komuni...   \n",
              "\n",
              "                                        Ulasan_clean  \n",
              "1  dua kali beli sayang lambat respon order pagi ...  \n",
              "2                                  bagus kirim cepat  \n",
              "3                                barang sesuai pesan  \n",
              "4                                        panas pakai  \n",
              "5                                                NaN  "
            ],
            "text/html": [
              "\n",
              "  <div id=\"df-d79e13ed-7eab-408a-8d8c-5a58c6224f21\" class=\"colab-df-container\">\n",
              "    <div>\n",
              "<style scoped>\n",
              "    .dataframe tbody tr th:only-of-type {\n",
              "        vertical-align: middle;\n",
              "    }\n",
              "\n",
              "    .dataframe tbody tr th {\n",
              "        vertical-align: top;\n",
              "    }\n",
              "\n",
              "    .dataframe thead th {\n",
              "        text-align: right;\n",
              "    }\n",
              "</style>\n",
              "<table border=\"1\" class=\"dataframe\">\n",
              "  <thead>\n",
              "    <tr style=\"text-align: right;\">\n",
              "      <th></th>\n",
              "      <th>Nama_Produk</th>\n",
              "      <th>Akun</th>\n",
              "      <th>Ulasan</th>\n",
              "      <th>rate</th>\n",
              "      <th>Ulasan_tokenize</th>\n",
              "      <th>Ulasan_normalized</th>\n",
              "      <th>Ulasan_stop_removed\\t</th>\n",
              "      <th>Ulasan_Stemmed</th>\n",
              "      <th>Ulasan_clean</th>\n",
              "    </tr>\n",
              "  </thead>\n",
              "  <tbody>\n",
              "    <tr>\n",
              "      <th>1</th>\n",
              "      <td>Masker KF94 4 Ply Isi 10 Pcs Masker Medis Kese...</td>\n",
              "      <td>Stephanus</td>\n",
              "      <td>dua kali beli sayang lambat respon order pagi ...</td>\n",
              "      <td>3</td>\n",
              "      <td>['yang', 'dua', 'kali', 'beli', 'sayang', 'lam...</td>\n",
              "      <td>['yang', 'dua', 'kali', 'beli', 'sayang', 'lam...</td>\n",
              "      <td>['dua', 'kali', 'beli', 'sayang', 'lambat', 'r...</td>\n",
              "      <td>['dua', 'kali', 'beli', 'sayang', 'lambat', 'r...</td>\n",
              "      <td>dua kali beli sayang lambat respon order pagi ...</td>\n",
              "    </tr>\n",
              "    <tr>\n",
              "      <th>2</th>\n",
              "      <td>Masker KF94 4 Ply Isi 10 Pcs Masker Medis Kese...</td>\n",
              "      <td>Yati</td>\n",
              "      <td>bagus kirim cepat</td>\n",
              "      <td>5</td>\n",
              "      <td>['bagus', 'kirim', 'cepat']</td>\n",
              "      <td>['bagus', 'kirim', 'cepat']</td>\n",
              "      <td>['bagus', 'kirim', 'cepat']</td>\n",
              "      <td>['bagus', 'kirim', 'cepat']</td>\n",
              "      <td>bagus kirim cepat</td>\n",
              "    </tr>\n",
              "    <tr>\n",
              "      <th>3</th>\n",
              "      <td>Masker KF94 4 Ply Isi 10 Pcs Masker Medis Kese...</td>\n",
              "      <td>Husin</td>\n",
              "      <td>barang sesuai pesan</td>\n",
              "      <td>5</td>\n",
              "      <td>['barang', 'sesuai', 'pesan']</td>\n",
              "      <td>['barang', 'sesuai', 'pesan']</td>\n",
              "      <td>['barang', 'sesuai', 'pesan']</td>\n",
              "      <td>['barang', 'sesuai', 'pesan']</td>\n",
              "      <td>barang sesuai pesan</td>\n",
              "    </tr>\n",
              "    <tr>\n",
              "      <th>4</th>\n",
              "      <td>Masker KF94 4 Ply Isi 10 Pcs Masker Medis Kese...</td>\n",
              "      <td>Febby</td>\n",
              "      <td>panas pakai</td>\n",
              "      <td>2</td>\n",
              "      <td>['panas', 'pakai']</td>\n",
              "      <td>['panas', 'pakai']</td>\n",
              "      <td>['panas', 'pakai']</td>\n",
              "      <td>['panas', 'pakai']</td>\n",
              "      <td>panas pakai</td>\n",
              "    </tr>\n",
              "    <tr>\n",
              "      <th>5</th>\n",
              "      <td>Masker KF94 4 Ply Isi 10 Pcs Masker Medis Kese...</td>\n",
              "      <td>Rahmat</td>\n",
              "      <td>barang sesuai minta bagus komunikasi jual beli...</td>\n",
              "      <td>3</td>\n",
              "      <td>['barang', 'sesuai', 'minta', 'bagus', 'komuni...</td>\n",
              "      <td>['barang', 'sesuai', 'minta', 'bagus', 'komuni...</td>\n",
              "      <td>['barang', 'sesuai', 'minta', 'bagus', 'komuni...</td>\n",
              "      <td>['barang', 'sesuai', 'minta', 'bagus', 'komuni...</td>\n",
              "      <td>NaN</td>\n",
              "    </tr>\n",
              "  </tbody>\n",
              "</table>\n",
              "</div>\n",
              "    <div class=\"colab-df-buttons\">\n",
              "\n",
              "  <div class=\"colab-df-container\">\n",
              "    <button class=\"colab-df-convert\" onclick=\"convertToInteractive('df-d79e13ed-7eab-408a-8d8c-5a58c6224f21')\"\n",
              "            title=\"Convert this dataframe to an interactive table.\"\n",
              "            style=\"display:none;\">\n",
              "\n",
              "  <svg xmlns=\"http://www.w3.org/2000/svg\" height=\"24px\" viewBox=\"0 -960 960 960\">\n",
              "    <path d=\"M120-120v-720h720v720H120Zm60-500h600v-160H180v160Zm220 220h160v-160H400v160Zm0 220h160v-160H400v160ZM180-400h160v-160H180v160Zm440 0h160v-160H620v160ZM180-180h160v-160H180v160Zm440 0h160v-160H620v160Z\"/>\n",
              "  </svg>\n",
              "    </button>\n",
              "\n",
              "  <style>\n",
              "    .colab-df-container {\n",
              "      display:flex;\n",
              "      gap: 12px;\n",
              "    }\n",
              "\n",
              "    .colab-df-convert {\n",
              "      background-color: #E8F0FE;\n",
              "      border: none;\n",
              "      border-radius: 50%;\n",
              "      cursor: pointer;\n",
              "      display: none;\n",
              "      fill: #1967D2;\n",
              "      height: 32px;\n",
              "      padding: 0 0 0 0;\n",
              "      width: 32px;\n",
              "    }\n",
              "\n",
              "    .colab-df-convert:hover {\n",
              "      background-color: #E2EBFA;\n",
              "      box-shadow: 0px 1px 2px rgba(60, 64, 67, 0.3), 0px 1px 3px 1px rgba(60, 64, 67, 0.15);\n",
              "      fill: #174EA6;\n",
              "    }\n",
              "\n",
              "    .colab-df-buttons div {\n",
              "      margin-bottom: 4px;\n",
              "    }\n",
              "\n",
              "    [theme=dark] .colab-df-convert {\n",
              "      background-color: #3B4455;\n",
              "      fill: #D2E3FC;\n",
              "    }\n",
              "\n",
              "    [theme=dark] .colab-df-convert:hover {\n",
              "      background-color: #434B5C;\n",
              "      box-shadow: 0px 1px 3px 1px rgba(0, 0, 0, 0.15);\n",
              "      filter: drop-shadow(0px 1px 2px rgba(0, 0, 0, 0.3));\n",
              "      fill: #FFFFFF;\n",
              "    }\n",
              "  </style>\n",
              "\n",
              "    <script>\n",
              "      const buttonEl =\n",
              "        document.querySelector('#df-d79e13ed-7eab-408a-8d8c-5a58c6224f21 button.colab-df-convert');\n",
              "      buttonEl.style.display =\n",
              "        google.colab.kernel.accessAllowed ? 'block' : 'none';\n",
              "\n",
              "      async function convertToInteractive(key) {\n",
              "        const element = document.querySelector('#df-d79e13ed-7eab-408a-8d8c-5a58c6224f21');\n",
              "        const dataTable =\n",
              "          await google.colab.kernel.invokeFunction('convertToInteractive',\n",
              "                                                    [key], {});\n",
              "        if (!dataTable) return;\n",
              "\n",
              "        const docLinkHtml = 'Like what you see? Visit the ' +\n",
              "          '<a target=\"_blank\" href=https://colab.research.google.com/notebooks/data_table.ipynb>data table notebook</a>'\n",
              "          + ' to learn more about interactive tables.';\n",
              "        element.innerHTML = '';\n",
              "        dataTable['output_type'] = 'display_data';\n",
              "        await google.colab.output.renderOutput(dataTable, element);\n",
              "        const docLink = document.createElement('div');\n",
              "        docLink.innerHTML = docLinkHtml;\n",
              "        element.appendChild(docLink);\n",
              "      }\n",
              "    </script>\n",
              "  </div>\n",
              "\n",
              "\n",
              "<div id=\"df-30246c38-262d-40d6-8eb0-aae016187eb0\">\n",
              "  <button class=\"colab-df-quickchart\" onclick=\"quickchart('df-30246c38-262d-40d6-8eb0-aae016187eb0')\"\n",
              "            title=\"Suggest charts\"\n",
              "            style=\"display:none;\">\n",
              "\n",
              "<svg xmlns=\"http://www.w3.org/2000/svg\" height=\"24px\"viewBox=\"0 0 24 24\"\n",
              "     width=\"24px\">\n",
              "    <g>\n",
              "        <path d=\"M19 3H5c-1.1 0-2 .9-2 2v14c0 1.1.9 2 2 2h14c1.1 0 2-.9 2-2V5c0-1.1-.9-2-2-2zM9 17H7v-7h2v7zm4 0h-2V7h2v10zm4 0h-2v-4h2v4z\"/>\n",
              "    </g>\n",
              "</svg>\n",
              "  </button>\n",
              "\n",
              "<style>\n",
              "  .colab-df-quickchart {\n",
              "      --bg-color: #E8F0FE;\n",
              "      --fill-color: #1967D2;\n",
              "      --hover-bg-color: #E2EBFA;\n",
              "      --hover-fill-color: #174EA6;\n",
              "      --disabled-fill-color: #AAA;\n",
              "      --disabled-bg-color: #DDD;\n",
              "  }\n",
              "\n",
              "  [theme=dark] .colab-df-quickchart {\n",
              "      --bg-color: #3B4455;\n",
              "      --fill-color: #D2E3FC;\n",
              "      --hover-bg-color: #434B5C;\n",
              "      --hover-fill-color: #FFFFFF;\n",
              "      --disabled-bg-color: #3B4455;\n",
              "      --disabled-fill-color: #666;\n",
              "  }\n",
              "\n",
              "  .colab-df-quickchart {\n",
              "    background-color: var(--bg-color);\n",
              "    border: none;\n",
              "    border-radius: 50%;\n",
              "    cursor: pointer;\n",
              "    display: none;\n",
              "    fill: var(--fill-color);\n",
              "    height: 32px;\n",
              "    padding: 0;\n",
              "    width: 32px;\n",
              "  }\n",
              "\n",
              "  .colab-df-quickchart:hover {\n",
              "    background-color: var(--hover-bg-color);\n",
              "    box-shadow: 0 1px 2px rgba(60, 64, 67, 0.3), 0 1px 3px 1px rgba(60, 64, 67, 0.15);\n",
              "    fill: var(--button-hover-fill-color);\n",
              "  }\n",
              "\n",
              "  .colab-df-quickchart-complete:disabled,\n",
              "  .colab-df-quickchart-complete:disabled:hover {\n",
              "    background-color: var(--disabled-bg-color);\n",
              "    fill: var(--disabled-fill-color);\n",
              "    box-shadow: none;\n",
              "  }\n",
              "\n",
              "  .colab-df-spinner {\n",
              "    border: 2px solid var(--fill-color);\n",
              "    border-color: transparent;\n",
              "    border-bottom-color: var(--fill-color);\n",
              "    animation:\n",
              "      spin 1s steps(1) infinite;\n",
              "  }\n",
              "\n",
              "  @keyframes spin {\n",
              "    0% {\n",
              "      border-color: transparent;\n",
              "      border-bottom-color: var(--fill-color);\n",
              "      border-left-color: var(--fill-color);\n",
              "    }\n",
              "    20% {\n",
              "      border-color: transparent;\n",
              "      border-left-color: var(--fill-color);\n",
              "      border-top-color: var(--fill-color);\n",
              "    }\n",
              "    30% {\n",
              "      border-color: transparent;\n",
              "      border-left-color: var(--fill-color);\n",
              "      border-top-color: var(--fill-color);\n",
              "      border-right-color: var(--fill-color);\n",
              "    }\n",
              "    40% {\n",
              "      border-color: transparent;\n",
              "      border-right-color: var(--fill-color);\n",
              "      border-top-color: var(--fill-color);\n",
              "    }\n",
              "    60% {\n",
              "      border-color: transparent;\n",
              "      border-right-color: var(--fill-color);\n",
              "    }\n",
              "    80% {\n",
              "      border-color: transparent;\n",
              "      border-right-color: var(--fill-color);\n",
              "      border-bottom-color: var(--fill-color);\n",
              "    }\n",
              "    90% {\n",
              "      border-color: transparent;\n",
              "      border-bottom-color: var(--fill-color);\n",
              "    }\n",
              "  }\n",
              "</style>\n",
              "\n",
              "  <script>\n",
              "    async function quickchart(key) {\n",
              "      const quickchartButtonEl =\n",
              "        document.querySelector('#' + key + ' button');\n",
              "      quickchartButtonEl.disabled = true;  // To prevent multiple clicks.\n",
              "      quickchartButtonEl.classList.add('colab-df-spinner');\n",
              "      try {\n",
              "        const charts = await google.colab.kernel.invokeFunction(\n",
              "            'suggestCharts', [key], {});\n",
              "      } catch (error) {\n",
              "        console.error('Error during call to suggestCharts:', error);\n",
              "      }\n",
              "      quickchartButtonEl.classList.remove('colab-df-spinner');\n",
              "      quickchartButtonEl.classList.add('colab-df-quickchart-complete');\n",
              "    }\n",
              "    (() => {\n",
              "      let quickchartButtonEl =\n",
              "        document.querySelector('#df-30246c38-262d-40d6-8eb0-aae016187eb0 button');\n",
              "      quickchartButtonEl.style.display =\n",
              "        google.colab.kernel.accessAllowed ? 'block' : 'none';\n",
              "    })();\n",
              "  </script>\n",
              "</div>\n",
              "    </div>\n",
              "  </div>\n"
            ],
            "application/vnd.google.colaboratory.intrinsic+json": {
              "type": "dataframe",
              "variable_name": "data",
              "summary": "{\n  \"name\": \"data\",\n  \"rows\": 503,\n  \"fields\": [\n    {\n      \"column\": \"Nama_Produk\",\n      \"properties\": {\n        \"dtype\": \"category\",\n        \"num_unique_values\": 61,\n        \"samples\": [\n          \"Masker KF94 4 Ply Isi 10 Pcs Masker Medis Kesehatan Kemasan Plastik - Putih\",\n          \"Disposable Mask KN95 N95 Facemask Kesehatan Masker Wajah 5 Layer BNPB - EVO 1pcs\",\n          \"MASKER ICARE DUCKBILL EMBOSS EARLOOP 4PLY PREMIUM QUALITY 50PCS I CARE - PUTIH EMBOSS, IC DB SACHET 26\"\n        ],\n        \"semantic_type\": \"\",\n        \"description\": \"\"\n      }\n    },\n    {\n      \"column\": \"Akun\",\n      \"properties\": {\n        \"dtype\": \"string\",\n        \"num_unique_values\": 412,\n        \"samples\": [\n          \" A***e\",\n          \"Lesmono\",\n          \"Ramadhan\"\n        ],\n        \"semantic_type\": \"\",\n        \"description\": \"\"\n      }\n    },\n    {\n      \"column\": \"Ulasan\",\n      \"properties\": {\n        \"dtype\": \"string\",\n        \"num_unique_values\": 466,\n        \"samples\": [\n          \"barang terima\",\n          \"mantap jiwa moga harga turun\",\n          \"pesan masker warna hijau datang warna pink\"\n        ],\n        \"semantic_type\": \"\",\n        \"description\": \"\"\n      }\n    },\n    {\n      \"column\": \"rate\",\n      \"properties\": {\n        \"dtype\": \"number\",\n        \"std\": 1,\n        \"min\": 1,\n        \"max\": 5,\n        \"num_unique_values\": 5,\n        \"samples\": [\n          5,\n          1,\n          2\n        ],\n        \"semantic_type\": \"\",\n        \"description\": \"\"\n      }\n    },\n    {\n      \"column\": \"Ulasan_tokenize\",\n      \"properties\": {\n        \"dtype\": \"string\",\n        \"num_unique_values\": 468,\n        \"samples\": [\n          \"['manstap']\",\n          \"['packing', 'rapi', 'respon', 'cepat']\",\n          \"['barang', 'asli', 'evorecomended']\"\n        ],\n        \"semantic_type\": \"\",\n        \"description\": \"\"\n      }\n    },\n    {\n      \"column\": \"Ulasan_normalized\",\n      \"properties\": {\n        \"dtype\": \"string\",\n        \"num_unique_values\": 467,\n        \"samples\": [\n          \"['barang', 'terima']\",\n          \"['mantap', 'jiwa', 'moga', 'harga', 'turun']\",\n          \"['pesan', 'masker', 'warna', 'hijau', 'datang', 'warna', 'pink']\"\n        ],\n        \"semantic_type\": \"\",\n        \"description\": \"\"\n      }\n    },\n    {\n      \"column\": \"Ulasan_stop_removed\\t\",\n      \"properties\": {\n        \"dtype\": \"string\",\n        \"num_unique_values\": 468,\n        \"samples\": [\n          \"['sip', 'beli']\",\n          \"['ok']\",\n          \"['barang', 'asli', 'evorecomended']\"\n        ],\n        \"semantic_type\": \"\",\n        \"description\": \"\"\n      }\n    },\n    {\n      \"column\": \"Ulasan_Stemmed\",\n      \"properties\": {\n        \"dtype\": \"string\",\n        \"num_unique_values\": 468,\n        \"samples\": [\n          \"['sip', 'beli']\",\n          \"['ok']\",\n          \"['barang', 'asli', 'evorecomended']\"\n        ],\n        \"semantic_type\": \"\",\n        \"description\": \"\"\n      }\n    },\n    {\n      \"column\": \"Ulasan_clean\",\n      \"properties\": {\n        \"dtype\": \"string\",\n        \"num_unique_values\": 468,\n        \"samples\": [\n          \"mantap\",\n          \"packing rapi respon cepat\",\n          \"pesan masker warna hijau datang warna pink\"\n        ],\n        \"semantic_type\": \"\",\n        \"description\": \"\"\n      }\n    }\n  ]\n}"
            }
          },
          "metadata": {},
          "execution_count": 3
        }
      ]
    },
    {
      "cell_type": "code",
      "source": [
        "data.info()"
      ],
      "metadata": {
        "execution": {
          "iopub.status.busy": "2023-07-13T06:53:56.593315Z",
          "iopub.execute_input": "2023-07-13T06:53:56.59419Z",
          "iopub.status.idle": "2023-07-13T06:53:56.609934Z",
          "shell.execute_reply.started": "2023-07-13T06:53:56.594156Z",
          "shell.execute_reply": "2023-07-13T06:53:56.608622Z"
        },
        "trusted": true,
        "id": "2V4FIfdd8pB2",
        "outputId": "ab0f2cfa-0a23-46f8-dbd0-75b9a63bdc17",
        "colab": {
          "base_uri": "https://localhost:8080/"
        }
      },
      "execution_count": 6,
      "outputs": [
        {
          "output_type": "stream",
          "name": "stdout",
          "text": [
            "<class 'pandas.core.frame.DataFrame'>\n",
            "Index: 503 entries, 1 to 503\n",
            "Data columns (total 9 columns):\n",
            " #   Column                Non-Null Count  Dtype \n",
            "---  ------                --------------  ----- \n",
            " 0   Nama_Produk           503 non-null    object\n",
            " 1   Akun                  503 non-null    object\n",
            " 2   Ulasan                503 non-null    object\n",
            " 3   rate                  503 non-null    int64 \n",
            " 4   Ulasan_tokenize       503 non-null    object\n",
            " 5   Ulasan_normalized     503 non-null    object\n",
            " 6   Ulasan_stop_removed\t  501 non-null    object\n",
            " 7   Ulasan_Stemmed        501 non-null    object\n",
            " 8   Ulasan_clean          500 non-null    object\n",
            "dtypes: int64(1), object(8)\n",
            "memory usage: 39.3+ KB\n"
          ]
        }
      ]
    },
    {
      "cell_type": "code",
      "source": [
        "data.describe()"
      ],
      "metadata": {
        "execution": {
          "iopub.status.busy": "2023-07-13T06:53:56.612639Z",
          "iopub.execute_input": "2023-07-13T06:53:56.613Z",
          "iopub.status.idle": "2023-07-13T06:53:56.6332Z",
          "shell.execute_reply.started": "2023-07-13T06:53:56.612971Z",
          "shell.execute_reply": "2023-07-13T06:53:56.631773Z"
        },
        "trusted": true,
        "id": "GUwamd0J8pB7",
        "outputId": "cd088db6-0482-4bcf-eb62-51085a8d4922",
        "colab": {
          "base_uri": "https://localhost:8080/",
          "height": 300
        }
      },
      "execution_count": 5,
      "outputs": [
        {
          "output_type": "execute_result",
          "data": {
            "text/plain": [
              "             rate\n",
              "count  503.000000\n",
              "mean     4.427435\n",
              "std      1.154500\n",
              "min      1.000000\n",
              "25%      5.000000\n",
              "50%      5.000000\n",
              "75%      5.000000\n",
              "max      5.000000"
            ],
            "text/html": [
              "\n",
              "  <div id=\"df-c1a97564-97cf-4359-863b-f6a7749791a8\" class=\"colab-df-container\">\n",
              "    <div>\n",
              "<style scoped>\n",
              "    .dataframe tbody tr th:only-of-type {\n",
              "        vertical-align: middle;\n",
              "    }\n",
              "\n",
              "    .dataframe tbody tr th {\n",
              "        vertical-align: top;\n",
              "    }\n",
              "\n",
              "    .dataframe thead th {\n",
              "        text-align: right;\n",
              "    }\n",
              "</style>\n",
              "<table border=\"1\" class=\"dataframe\">\n",
              "  <thead>\n",
              "    <tr style=\"text-align: right;\">\n",
              "      <th></th>\n",
              "      <th>rate</th>\n",
              "    </tr>\n",
              "  </thead>\n",
              "  <tbody>\n",
              "    <tr>\n",
              "      <th>count</th>\n",
              "      <td>503.000000</td>\n",
              "    </tr>\n",
              "    <tr>\n",
              "      <th>mean</th>\n",
              "      <td>4.427435</td>\n",
              "    </tr>\n",
              "    <tr>\n",
              "      <th>std</th>\n",
              "      <td>1.154500</td>\n",
              "    </tr>\n",
              "    <tr>\n",
              "      <th>min</th>\n",
              "      <td>1.000000</td>\n",
              "    </tr>\n",
              "    <tr>\n",
              "      <th>25%</th>\n",
              "      <td>5.000000</td>\n",
              "    </tr>\n",
              "    <tr>\n",
              "      <th>50%</th>\n",
              "      <td>5.000000</td>\n",
              "    </tr>\n",
              "    <tr>\n",
              "      <th>75%</th>\n",
              "      <td>5.000000</td>\n",
              "    </tr>\n",
              "    <tr>\n",
              "      <th>max</th>\n",
              "      <td>5.000000</td>\n",
              "    </tr>\n",
              "  </tbody>\n",
              "</table>\n",
              "</div>\n",
              "    <div class=\"colab-df-buttons\">\n",
              "\n",
              "  <div class=\"colab-df-container\">\n",
              "    <button class=\"colab-df-convert\" onclick=\"convertToInteractive('df-c1a97564-97cf-4359-863b-f6a7749791a8')\"\n",
              "            title=\"Convert this dataframe to an interactive table.\"\n",
              "            style=\"display:none;\">\n",
              "\n",
              "  <svg xmlns=\"http://www.w3.org/2000/svg\" height=\"24px\" viewBox=\"0 -960 960 960\">\n",
              "    <path d=\"M120-120v-720h720v720H120Zm60-500h600v-160H180v160Zm220 220h160v-160H400v160Zm0 220h160v-160H400v160ZM180-400h160v-160H180v160Zm440 0h160v-160H620v160ZM180-180h160v-160H180v160Zm440 0h160v-160H620v160Z\"/>\n",
              "  </svg>\n",
              "    </button>\n",
              "\n",
              "  <style>\n",
              "    .colab-df-container {\n",
              "      display:flex;\n",
              "      gap: 12px;\n",
              "    }\n",
              "\n",
              "    .colab-df-convert {\n",
              "      background-color: #E8F0FE;\n",
              "      border: none;\n",
              "      border-radius: 50%;\n",
              "      cursor: pointer;\n",
              "      display: none;\n",
              "      fill: #1967D2;\n",
              "      height: 32px;\n",
              "      padding: 0 0 0 0;\n",
              "      width: 32px;\n",
              "    }\n",
              "\n",
              "    .colab-df-convert:hover {\n",
              "      background-color: #E2EBFA;\n",
              "      box-shadow: 0px 1px 2px rgba(60, 64, 67, 0.3), 0px 1px 3px 1px rgba(60, 64, 67, 0.15);\n",
              "      fill: #174EA6;\n",
              "    }\n",
              "\n",
              "    .colab-df-buttons div {\n",
              "      margin-bottom: 4px;\n",
              "    }\n",
              "\n",
              "    [theme=dark] .colab-df-convert {\n",
              "      background-color: #3B4455;\n",
              "      fill: #D2E3FC;\n",
              "    }\n",
              "\n",
              "    [theme=dark] .colab-df-convert:hover {\n",
              "      background-color: #434B5C;\n",
              "      box-shadow: 0px 1px 3px 1px rgba(0, 0, 0, 0.15);\n",
              "      filter: drop-shadow(0px 1px 2px rgba(0, 0, 0, 0.3));\n",
              "      fill: #FFFFFF;\n",
              "    }\n",
              "  </style>\n",
              "\n",
              "    <script>\n",
              "      const buttonEl =\n",
              "        document.querySelector('#df-c1a97564-97cf-4359-863b-f6a7749791a8 button.colab-df-convert');\n",
              "      buttonEl.style.display =\n",
              "        google.colab.kernel.accessAllowed ? 'block' : 'none';\n",
              "\n",
              "      async function convertToInteractive(key) {\n",
              "        const element = document.querySelector('#df-c1a97564-97cf-4359-863b-f6a7749791a8');\n",
              "        const dataTable =\n",
              "          await google.colab.kernel.invokeFunction('convertToInteractive',\n",
              "                                                    [key], {});\n",
              "        if (!dataTable) return;\n",
              "\n",
              "        const docLinkHtml = 'Like what you see? Visit the ' +\n",
              "          '<a target=\"_blank\" href=https://colab.research.google.com/notebooks/data_table.ipynb>data table notebook</a>'\n",
              "          + ' to learn more about interactive tables.';\n",
              "        element.innerHTML = '';\n",
              "        dataTable['output_type'] = 'display_data';\n",
              "        await google.colab.output.renderOutput(dataTable, element);\n",
              "        const docLink = document.createElement('div');\n",
              "        docLink.innerHTML = docLinkHtml;\n",
              "        element.appendChild(docLink);\n",
              "      }\n",
              "    </script>\n",
              "  </div>\n",
              "\n",
              "\n",
              "<div id=\"df-3a211bc8-dae6-4cda-9814-2bf92122da65\">\n",
              "  <button class=\"colab-df-quickchart\" onclick=\"quickchart('df-3a211bc8-dae6-4cda-9814-2bf92122da65')\"\n",
              "            title=\"Suggest charts\"\n",
              "            style=\"display:none;\">\n",
              "\n",
              "<svg xmlns=\"http://www.w3.org/2000/svg\" height=\"24px\"viewBox=\"0 0 24 24\"\n",
              "     width=\"24px\">\n",
              "    <g>\n",
              "        <path d=\"M19 3H5c-1.1 0-2 .9-2 2v14c0 1.1.9 2 2 2h14c1.1 0 2-.9 2-2V5c0-1.1-.9-2-2-2zM9 17H7v-7h2v7zm4 0h-2V7h2v10zm4 0h-2v-4h2v4z\"/>\n",
              "    </g>\n",
              "</svg>\n",
              "  </button>\n",
              "\n",
              "<style>\n",
              "  .colab-df-quickchart {\n",
              "      --bg-color: #E8F0FE;\n",
              "      --fill-color: #1967D2;\n",
              "      --hover-bg-color: #E2EBFA;\n",
              "      --hover-fill-color: #174EA6;\n",
              "      --disabled-fill-color: #AAA;\n",
              "      --disabled-bg-color: #DDD;\n",
              "  }\n",
              "\n",
              "  [theme=dark] .colab-df-quickchart {\n",
              "      --bg-color: #3B4455;\n",
              "      --fill-color: #D2E3FC;\n",
              "      --hover-bg-color: #434B5C;\n",
              "      --hover-fill-color: #FFFFFF;\n",
              "      --disabled-bg-color: #3B4455;\n",
              "      --disabled-fill-color: #666;\n",
              "  }\n",
              "\n",
              "  .colab-df-quickchart {\n",
              "    background-color: var(--bg-color);\n",
              "    border: none;\n",
              "    border-radius: 50%;\n",
              "    cursor: pointer;\n",
              "    display: none;\n",
              "    fill: var(--fill-color);\n",
              "    height: 32px;\n",
              "    padding: 0;\n",
              "    width: 32px;\n",
              "  }\n",
              "\n",
              "  .colab-df-quickchart:hover {\n",
              "    background-color: var(--hover-bg-color);\n",
              "    box-shadow: 0 1px 2px rgba(60, 64, 67, 0.3), 0 1px 3px 1px rgba(60, 64, 67, 0.15);\n",
              "    fill: var(--button-hover-fill-color);\n",
              "  }\n",
              "\n",
              "  .colab-df-quickchart-complete:disabled,\n",
              "  .colab-df-quickchart-complete:disabled:hover {\n",
              "    background-color: var(--disabled-bg-color);\n",
              "    fill: var(--disabled-fill-color);\n",
              "    box-shadow: none;\n",
              "  }\n",
              "\n",
              "  .colab-df-spinner {\n",
              "    border: 2px solid var(--fill-color);\n",
              "    border-color: transparent;\n",
              "    border-bottom-color: var(--fill-color);\n",
              "    animation:\n",
              "      spin 1s steps(1) infinite;\n",
              "  }\n",
              "\n",
              "  @keyframes spin {\n",
              "    0% {\n",
              "      border-color: transparent;\n",
              "      border-bottom-color: var(--fill-color);\n",
              "      border-left-color: var(--fill-color);\n",
              "    }\n",
              "    20% {\n",
              "      border-color: transparent;\n",
              "      border-left-color: var(--fill-color);\n",
              "      border-top-color: var(--fill-color);\n",
              "    }\n",
              "    30% {\n",
              "      border-color: transparent;\n",
              "      border-left-color: var(--fill-color);\n",
              "      border-top-color: var(--fill-color);\n",
              "      border-right-color: var(--fill-color);\n",
              "    }\n",
              "    40% {\n",
              "      border-color: transparent;\n",
              "      border-right-color: var(--fill-color);\n",
              "      border-top-color: var(--fill-color);\n",
              "    }\n",
              "    60% {\n",
              "      border-color: transparent;\n",
              "      border-right-color: var(--fill-color);\n",
              "    }\n",
              "    80% {\n",
              "      border-color: transparent;\n",
              "      border-right-color: var(--fill-color);\n",
              "      border-bottom-color: var(--fill-color);\n",
              "    }\n",
              "    90% {\n",
              "      border-color: transparent;\n",
              "      border-bottom-color: var(--fill-color);\n",
              "    }\n",
              "  }\n",
              "</style>\n",
              "\n",
              "  <script>\n",
              "    async function quickchart(key) {\n",
              "      const quickchartButtonEl =\n",
              "        document.querySelector('#' + key + ' button');\n",
              "      quickchartButtonEl.disabled = true;  // To prevent multiple clicks.\n",
              "      quickchartButtonEl.classList.add('colab-df-spinner');\n",
              "      try {\n",
              "        const charts = await google.colab.kernel.invokeFunction(\n",
              "            'suggestCharts', [key], {});\n",
              "      } catch (error) {\n",
              "        console.error('Error during call to suggestCharts:', error);\n",
              "      }\n",
              "      quickchartButtonEl.classList.remove('colab-df-spinner');\n",
              "      quickchartButtonEl.classList.add('colab-df-quickchart-complete');\n",
              "    }\n",
              "    (() => {\n",
              "      let quickchartButtonEl =\n",
              "        document.querySelector('#df-3a211bc8-dae6-4cda-9814-2bf92122da65 button');\n",
              "      quickchartButtonEl.style.display =\n",
              "        google.colab.kernel.accessAllowed ? 'block' : 'none';\n",
              "    })();\n",
              "  </script>\n",
              "</div>\n",
              "    </div>\n",
              "  </div>\n"
            ],
            "application/vnd.google.colaboratory.intrinsic+json": {
              "type": "dataframe",
              "summary": "{\n  \"name\": \"data\",\n  \"rows\": 8,\n  \"fields\": [\n    {\n      \"column\": \"rate\",\n      \"properties\": {\n        \"dtype\": \"number\",\n        \"std\": 176.5032604754264,\n        \"min\": 1.0,\n        \"max\": 503.0,\n        \"num_unique_values\": 5,\n        \"samples\": [\n          4.427435387673956,\n          5.0,\n          1.1545004539227204\n        ],\n        \"semantic_type\": \"\",\n        \"description\": \"\"\n      }\n    }\n  ]\n}"
            }
          },
          "metadata": {},
          "execution_count": 5
        }
      ]
    },
    {
      "cell_type": "markdown",
      "source": [
        "# PREPOCESSING"
      ],
      "metadata": {
        "id": "zNjOePXX8pB8"
      }
    },
    {
      "cell_type": "markdown",
      "source": [
        "# Labeling\n",
        "Pembagian data menjadi data sentimen berlabel positif dan negatif dengan angka 1 untuk positif dan angka 0 untuk negatif. Pengklasifikasian ini dilakukan pada ulasan yang memiliki rating 4 dan 5 sebagai sentimen positif dan rating 3 sampai 1 sebagai sentimen negatif."
      ],
      "metadata": {
        "papermill": {
          "duration": null,
          "end_time": null,
          "exception": null,
          "start_time": null,
          "status": "pending"
        },
        "tags": [],
        "id": "tPO4Vkaj8pB-"
      }
    },
    {
      "cell_type": "code",
      "source": [
        "label = []\n",
        "for index, row in data.iterrows():\n",
        "    if row[\"rate\"] == 5 or row[\"rate\"] == 4:\n",
        "        label.append(1)\n",
        "    else:\n",
        "        label.append(0)\n",
        "\n",
        "data[\"label\"] = label\n",
        "\n",
        "data"
      ],
      "metadata": {
        "id": "U2uPT_htK9Bk",
        "outputId": "c1e9d65f-726b-46e1-995c-89760515afbb",
        "papermill": {
          "duration": null,
          "end_time": null,
          "exception": null,
          "start_time": null,
          "status": "pending"
        },
        "tags": [],
        "execution": {
          "iopub.status.busy": "2023-07-13T06:53:56.634843Z",
          "iopub.execute_input": "2023-07-13T06:53:56.635525Z",
          "iopub.status.idle": "2023-07-13T06:53:56.6956Z",
          "shell.execute_reply.started": "2023-07-13T06:53:56.635481Z",
          "shell.execute_reply": "2023-07-13T06:53:56.694291Z"
        },
        "trusted": true,
        "colab": {
          "base_uri": "https://localhost:8080/",
          "height": 1000
        }
      },
      "execution_count": 7,
      "outputs": [
        {
          "output_type": "execute_result",
          "data": {
            "text/plain": [
              "                                           Nama_Produk       Akun  \\\n",
              "1    Masker KF94 4 Ply Isi 10 Pcs Masker Medis Kese...  Stephanus   \n",
              "2    Masker KF94 4 Ply Isi 10 Pcs Masker Medis Kese...       Yati   \n",
              "3    Masker KF94 4 Ply Isi 10 Pcs Masker Medis Kese...      Husin   \n",
              "4    Masker KF94 4 Ply Isi 10 Pcs Masker Medis Kese...      Febby   \n",
              "5    Masker KF94 4 Ply Isi 10 Pcs Masker Medis Kese...     Rahmat   \n",
              "..                                                 ...        ...   \n",
              "499  [ DOC ] MASKER KF94 FFP2 4PLY ISI 25 SEGEL PER...       Daud   \n",
              "500  [ DOC ] MASKER KF94 FFP2 4PLY ISI 25 SEGEL PER...      o***a   \n",
              "501  [ DOC ] MASKER KF94 FFP2 4PLY ISI 25 SEGEL PER...        Epe   \n",
              "502  [ DOC ] MASKER KF94 FFP2 4PLY ISI 25 SEGEL PER...     Anneke   \n",
              "503  [ DOC ] MASKER KF94 FFP2 4PLY ISI 25 SEGEL PER...      david   \n",
              "\n",
              "                                                Ulasan  rate  \\\n",
              "1    dua kali beli sayang lambat respon order pagi ...     3   \n",
              "2                                    bagus kirim cepat     5   \n",
              "3                                  barang sesuai pesan     5   \n",
              "4                                          panas pakai     2   \n",
              "5    barang sesuai minta bagus komunikasi jual beli...     3   \n",
              "..                                                 ...   ...   \n",
              "499  gk sesuai dgn permintaan... saya jelas2 sudah ...     2   \n",
              "500  beneran di packing satuan loh .. jd nya aman d...     5   \n",
              "501         Barang cepat diproses dan sesuai pesanan..     5   \n",
              "502  proses cepet banget, barang bagus. makasih bon...     5   \n",
              "503  semua sesuai pesanan. yg doc bungkus satuan n ...     5   \n",
              "\n",
              "                                       Ulasan_tokenize  \\\n",
              "1    ['yang', 'dua', 'kali', 'beli', 'sayang', 'lam...   \n",
              "2                          ['bagus', 'kirim', 'cepat']   \n",
              "3                       ['barang', 'sesuai', 'pesan']    \n",
              "4                                   ['panas', 'pakai']   \n",
              "5    ['barang', 'sesuai', 'minta', 'bagus', 'komuni...   \n",
              "..                                                 ...   \n",
              "499  ['gk', 'sesuai', 'dgn', 'permintaan', '...', '...   \n",
              "500  ['beneran', 'di', 'packing', 'satuan', 'loh', ...   \n",
              "501  ['Barang', 'cepat', 'diproses', 'dan', 'sesuai...   \n",
              "502  ['proses', 'cepet', 'banget', ',', 'barang', '...   \n",
              "503  ['semua', 'sesuai', 'pesanan', '.', 'yg', 'doc...   \n",
              "\n",
              "                                     Ulasan_normalized  \\\n",
              "1    ['yang', 'dua', 'kali', 'beli', 'sayang', 'lam...   \n",
              "2                          ['bagus', 'kirim', 'cepat']   \n",
              "3                        ['barang', 'sesuai', 'pesan']   \n",
              "4                                   ['panas', 'pakai']   \n",
              "5    ['barang', 'sesuai', 'minta', 'bagus', 'komuni...   \n",
              "..                                                 ...   \n",
              "499  ['Tidak', 'sesuai', 'dengan', 'permintaan', '....   \n",
              "500  ['Packing', 'dilakukan', 'dalam', 'satuan', 's...   \n",
              "501  ['Barang', 'diproses', 'dengan', 'cepat', 'dan...   \n",
              "502  ['Proses', 'yang', 'cepat', 'dan', 'barang', '...   \n",
              "503  ['Semua', 'sesuai', 'pesanan', '.', 'Ada', 'be...   \n",
              "\n",
              "                                 Ulasan_stop_removed\\t  \\\n",
              "1    ['dua', 'kali', 'beli', 'sayang', 'lambat', 'r...   \n",
              "2                          ['bagus', 'kirim', 'cepat']   \n",
              "3                        ['barang', 'sesuai', 'pesan']   \n",
              "4                                   ['panas', 'pakai']   \n",
              "5    ['barang', 'sesuai', 'minta', 'bagus', 'komuni...   \n",
              "..                                                 ...   \n",
              "499  ['Tidak', 'sesuai', 'permintaan', 'menulisnya'...   \n",
              "500  ['Packing', 'dilakukan', 'satuan', 'aman', 'di...   \n",
              "501  ['Barang', 'diproses', 'cepat', 'sesuai', 'pes...   \n",
              "502  ['Proses', 'cepat', 'barang', 'bagus', 'Terima...   \n",
              "503  ['Semua', 'pesanan', 'dibungkus', 'individu', ...   \n",
              "\n",
              "                                        Ulasan_Stemmed  \\\n",
              "1    ['dua', 'kali', 'beli', 'sayang', 'lambat', 'r...   \n",
              "2                          ['bagus', 'kirim', 'cepat']   \n",
              "3                        ['barang', 'sesuai', 'pesan']   \n",
              "4                                   ['panas', 'pakai']   \n",
              "5    ['barang', 'sesuai', 'minta', 'bagus', 'komuni...   \n",
              "..                                                 ...   \n",
              "499  ['Tidak', 'sesuai', 'permintaan', 'menulisnya'...   \n",
              "500  ['Packing', 'dilakukan', 'satuan', 'aman', 'di...   \n",
              "501  ['Barang', 'diproses', 'cepat', 'sesuai', 'pes...   \n",
              "502  ['Proses', 'cepat', 'barang', 'bagus', 'Terima...   \n",
              "503  ['Semua', 'pesanan', 'dibungkus', 'individu', ...   \n",
              "\n",
              "                                          Ulasan_clean  label  \n",
              "1    dua kali beli sayang lambat respon order pagi ...      0  \n",
              "2                                    bagus kirim cepat      1  \n",
              "3                                  barang sesuai pesan      1  \n",
              "4                                          panas pakai      0  \n",
              "5                                                  NaN      0  \n",
              "..                                                 ...    ...  \n",
              "499  Tidak sesuai permintaan menulisnya catatan ord...      0  \n",
              "500   Packing dilakukan satuan aman dibawa kemana-mana      1  \n",
              "501               Barang diproses cepat sesuai pesanan      1  \n",
              "502             Proses cepat barang bagus Terima kasih      1  \n",
              "503  Semua pesanan dibungkus individu sambungan men...      1  \n",
              "\n",
              "[503 rows x 10 columns]"
            ],
            "text/html": [
              "\n",
              "  <div id=\"df-9bfd5078-9fef-4e27-ac28-d51dd43e1691\" class=\"colab-df-container\">\n",
              "    <div>\n",
              "<style scoped>\n",
              "    .dataframe tbody tr th:only-of-type {\n",
              "        vertical-align: middle;\n",
              "    }\n",
              "\n",
              "    .dataframe tbody tr th {\n",
              "        vertical-align: top;\n",
              "    }\n",
              "\n",
              "    .dataframe thead th {\n",
              "        text-align: right;\n",
              "    }\n",
              "</style>\n",
              "<table border=\"1\" class=\"dataframe\">\n",
              "  <thead>\n",
              "    <tr style=\"text-align: right;\">\n",
              "      <th></th>\n",
              "      <th>Nama_Produk</th>\n",
              "      <th>Akun</th>\n",
              "      <th>Ulasan</th>\n",
              "      <th>rate</th>\n",
              "      <th>Ulasan_tokenize</th>\n",
              "      <th>Ulasan_normalized</th>\n",
              "      <th>Ulasan_stop_removed\\t</th>\n",
              "      <th>Ulasan_Stemmed</th>\n",
              "      <th>Ulasan_clean</th>\n",
              "      <th>label</th>\n",
              "    </tr>\n",
              "  </thead>\n",
              "  <tbody>\n",
              "    <tr>\n",
              "      <th>1</th>\n",
              "      <td>Masker KF94 4 Ply Isi 10 Pcs Masker Medis Kese...</td>\n",
              "      <td>Stephanus</td>\n",
              "      <td>dua kali beli sayang lambat respon order pagi ...</td>\n",
              "      <td>3</td>\n",
              "      <td>['yang', 'dua', 'kali', 'beli', 'sayang', 'lam...</td>\n",
              "      <td>['yang', 'dua', 'kali', 'beli', 'sayang', 'lam...</td>\n",
              "      <td>['dua', 'kali', 'beli', 'sayang', 'lambat', 'r...</td>\n",
              "      <td>['dua', 'kali', 'beli', 'sayang', 'lambat', 'r...</td>\n",
              "      <td>dua kali beli sayang lambat respon order pagi ...</td>\n",
              "      <td>0</td>\n",
              "    </tr>\n",
              "    <tr>\n",
              "      <th>2</th>\n",
              "      <td>Masker KF94 4 Ply Isi 10 Pcs Masker Medis Kese...</td>\n",
              "      <td>Yati</td>\n",
              "      <td>bagus kirim cepat</td>\n",
              "      <td>5</td>\n",
              "      <td>['bagus', 'kirim', 'cepat']</td>\n",
              "      <td>['bagus', 'kirim', 'cepat']</td>\n",
              "      <td>['bagus', 'kirim', 'cepat']</td>\n",
              "      <td>['bagus', 'kirim', 'cepat']</td>\n",
              "      <td>bagus kirim cepat</td>\n",
              "      <td>1</td>\n",
              "    </tr>\n",
              "    <tr>\n",
              "      <th>3</th>\n",
              "      <td>Masker KF94 4 Ply Isi 10 Pcs Masker Medis Kese...</td>\n",
              "      <td>Husin</td>\n",
              "      <td>barang sesuai pesan</td>\n",
              "      <td>5</td>\n",
              "      <td>['barang', 'sesuai', 'pesan']</td>\n",
              "      <td>['barang', 'sesuai', 'pesan']</td>\n",
              "      <td>['barang', 'sesuai', 'pesan']</td>\n",
              "      <td>['barang', 'sesuai', 'pesan']</td>\n",
              "      <td>barang sesuai pesan</td>\n",
              "      <td>1</td>\n",
              "    </tr>\n",
              "    <tr>\n",
              "      <th>4</th>\n",
              "      <td>Masker KF94 4 Ply Isi 10 Pcs Masker Medis Kese...</td>\n",
              "      <td>Febby</td>\n",
              "      <td>panas pakai</td>\n",
              "      <td>2</td>\n",
              "      <td>['panas', 'pakai']</td>\n",
              "      <td>['panas', 'pakai']</td>\n",
              "      <td>['panas', 'pakai']</td>\n",
              "      <td>['panas', 'pakai']</td>\n",
              "      <td>panas pakai</td>\n",
              "      <td>0</td>\n",
              "    </tr>\n",
              "    <tr>\n",
              "      <th>5</th>\n",
              "      <td>Masker KF94 4 Ply Isi 10 Pcs Masker Medis Kese...</td>\n",
              "      <td>Rahmat</td>\n",
              "      <td>barang sesuai minta bagus komunikasi jual beli...</td>\n",
              "      <td>3</td>\n",
              "      <td>['barang', 'sesuai', 'minta', 'bagus', 'komuni...</td>\n",
              "      <td>['barang', 'sesuai', 'minta', 'bagus', 'komuni...</td>\n",
              "      <td>['barang', 'sesuai', 'minta', 'bagus', 'komuni...</td>\n",
              "      <td>['barang', 'sesuai', 'minta', 'bagus', 'komuni...</td>\n",
              "      <td>NaN</td>\n",
              "      <td>0</td>\n",
              "    </tr>\n",
              "    <tr>\n",
              "      <th>...</th>\n",
              "      <td>...</td>\n",
              "      <td>...</td>\n",
              "      <td>...</td>\n",
              "      <td>...</td>\n",
              "      <td>...</td>\n",
              "      <td>...</td>\n",
              "      <td>...</td>\n",
              "      <td>...</td>\n",
              "      <td>...</td>\n",
              "      <td>...</td>\n",
              "    </tr>\n",
              "    <tr>\n",
              "      <th>499</th>\n",
              "      <td>[ DOC ] MASKER KF94 FFP2 4PLY ISI 25 SEGEL PER...</td>\n",
              "      <td>Daud</td>\n",
              "      <td>gk sesuai dgn permintaan... saya jelas2 sudah ...</td>\n",
              "      <td>2</td>\n",
              "      <td>['gk', 'sesuai', 'dgn', 'permintaan', '...', '...</td>\n",
              "      <td>['Tidak', 'sesuai', 'dengan', 'permintaan', '....</td>\n",
              "      <td>['Tidak', 'sesuai', 'permintaan', 'menulisnya'...</td>\n",
              "      <td>['Tidak', 'sesuai', 'permintaan', 'menulisnya'...</td>\n",
              "      <td>Tidak sesuai permintaan menulisnya catatan ord...</td>\n",
              "      <td>0</td>\n",
              "    </tr>\n",
              "    <tr>\n",
              "      <th>500</th>\n",
              "      <td>[ DOC ] MASKER KF94 FFP2 4PLY ISI 25 SEGEL PER...</td>\n",
              "      <td>o***a</td>\n",
              "      <td>beneran di packing satuan loh .. jd nya aman d...</td>\n",
              "      <td>5</td>\n",
              "      <td>['beneran', 'di', 'packing', 'satuan', 'loh', ...</td>\n",
              "      <td>['Packing', 'dilakukan', 'dalam', 'satuan', 's...</td>\n",
              "      <td>['Packing', 'dilakukan', 'satuan', 'aman', 'di...</td>\n",
              "      <td>['Packing', 'dilakukan', 'satuan', 'aman', 'di...</td>\n",
              "      <td>Packing dilakukan satuan aman dibawa kemana-mana</td>\n",
              "      <td>1</td>\n",
              "    </tr>\n",
              "    <tr>\n",
              "      <th>501</th>\n",
              "      <td>[ DOC ] MASKER KF94 FFP2 4PLY ISI 25 SEGEL PER...</td>\n",
              "      <td>Epe</td>\n",
              "      <td>Barang cepat diproses dan sesuai pesanan..</td>\n",
              "      <td>5</td>\n",
              "      <td>['Barang', 'cepat', 'diproses', 'dan', 'sesuai...</td>\n",
              "      <td>['Barang', 'diproses', 'dengan', 'cepat', 'dan...</td>\n",
              "      <td>['Barang', 'diproses', 'cepat', 'sesuai', 'pes...</td>\n",
              "      <td>['Barang', 'diproses', 'cepat', 'sesuai', 'pes...</td>\n",
              "      <td>Barang diproses cepat sesuai pesanan</td>\n",
              "      <td>1</td>\n",
              "    </tr>\n",
              "    <tr>\n",
              "      <th>502</th>\n",
              "      <td>[ DOC ] MASKER KF94 FFP2 4PLY ISI 25 SEGEL PER...</td>\n",
              "      <td>Anneke</td>\n",
              "      <td>proses cepet banget, barang bagus. makasih bon...</td>\n",
              "      <td>5</td>\n",
              "      <td>['proses', 'cepet', 'banget', ',', 'barang', '...</td>\n",
              "      <td>['Proses', 'yang', 'cepat', 'dan', 'barang', '...</td>\n",
              "      <td>['Proses', 'cepat', 'barang', 'bagus', 'Terima...</td>\n",
              "      <td>['Proses', 'cepat', 'barang', 'bagus', 'Terima...</td>\n",
              "      <td>Proses cepat barang bagus Terima kasih</td>\n",
              "      <td>1</td>\n",
              "    </tr>\n",
              "    <tr>\n",
              "      <th>503</th>\n",
              "      <td>[ DOC ] MASKER KF94 FFP2 4PLY ISI 25 SEGEL PER...</td>\n",
              "      <td>david</td>\n",
              "      <td>semua sesuai pesanan. yg doc bungkus satuan n ...</td>\n",
              "      <td>5</td>\n",
              "      <td>['semua', 'sesuai', 'pesanan', '.', 'yg', 'doc...</td>\n",
              "      <td>['Semua', 'sesuai', 'pesanan', '.', 'Ada', 'be...</td>\n",
              "      <td>['Semua', 'pesanan', 'dibungkus', 'individu', ...</td>\n",
              "      <td>['Semua', 'pesanan', 'dibungkus', 'individu', ...</td>\n",
              "      <td>Semua pesanan dibungkus individu sambungan men...</td>\n",
              "      <td>1</td>\n",
              "    </tr>\n",
              "  </tbody>\n",
              "</table>\n",
              "<p>503 rows × 10 columns</p>\n",
              "</div>\n",
              "    <div class=\"colab-df-buttons\">\n",
              "\n",
              "  <div class=\"colab-df-container\">\n",
              "    <button class=\"colab-df-convert\" onclick=\"convertToInteractive('df-9bfd5078-9fef-4e27-ac28-d51dd43e1691')\"\n",
              "            title=\"Convert this dataframe to an interactive table.\"\n",
              "            style=\"display:none;\">\n",
              "\n",
              "  <svg xmlns=\"http://www.w3.org/2000/svg\" height=\"24px\" viewBox=\"0 -960 960 960\">\n",
              "    <path d=\"M120-120v-720h720v720H120Zm60-500h600v-160H180v160Zm220 220h160v-160H400v160Zm0 220h160v-160H400v160ZM180-400h160v-160H180v160Zm440 0h160v-160H620v160ZM180-180h160v-160H180v160Zm440 0h160v-160H620v160Z\"/>\n",
              "  </svg>\n",
              "    </button>\n",
              "\n",
              "  <style>\n",
              "    .colab-df-container {\n",
              "      display:flex;\n",
              "      gap: 12px;\n",
              "    }\n",
              "\n",
              "    .colab-df-convert {\n",
              "      background-color: #E8F0FE;\n",
              "      border: none;\n",
              "      border-radius: 50%;\n",
              "      cursor: pointer;\n",
              "      display: none;\n",
              "      fill: #1967D2;\n",
              "      height: 32px;\n",
              "      padding: 0 0 0 0;\n",
              "      width: 32px;\n",
              "    }\n",
              "\n",
              "    .colab-df-convert:hover {\n",
              "      background-color: #E2EBFA;\n",
              "      box-shadow: 0px 1px 2px rgba(60, 64, 67, 0.3), 0px 1px 3px 1px rgba(60, 64, 67, 0.15);\n",
              "      fill: #174EA6;\n",
              "    }\n",
              "\n",
              "    .colab-df-buttons div {\n",
              "      margin-bottom: 4px;\n",
              "    }\n",
              "\n",
              "    [theme=dark] .colab-df-convert {\n",
              "      background-color: #3B4455;\n",
              "      fill: #D2E3FC;\n",
              "    }\n",
              "\n",
              "    [theme=dark] .colab-df-convert:hover {\n",
              "      background-color: #434B5C;\n",
              "      box-shadow: 0px 1px 3px 1px rgba(0, 0, 0, 0.15);\n",
              "      filter: drop-shadow(0px 1px 2px rgba(0, 0, 0, 0.3));\n",
              "      fill: #FFFFFF;\n",
              "    }\n",
              "  </style>\n",
              "\n",
              "    <script>\n",
              "      const buttonEl =\n",
              "        document.querySelector('#df-9bfd5078-9fef-4e27-ac28-d51dd43e1691 button.colab-df-convert');\n",
              "      buttonEl.style.display =\n",
              "        google.colab.kernel.accessAllowed ? 'block' : 'none';\n",
              "\n",
              "      async function convertToInteractive(key) {\n",
              "        const element = document.querySelector('#df-9bfd5078-9fef-4e27-ac28-d51dd43e1691');\n",
              "        const dataTable =\n",
              "          await google.colab.kernel.invokeFunction('convertToInteractive',\n",
              "                                                    [key], {});\n",
              "        if (!dataTable) return;\n",
              "\n",
              "        const docLinkHtml = 'Like what you see? Visit the ' +\n",
              "          '<a target=\"_blank\" href=https://colab.research.google.com/notebooks/data_table.ipynb>data table notebook</a>'\n",
              "          + ' to learn more about interactive tables.';\n",
              "        element.innerHTML = '';\n",
              "        dataTable['output_type'] = 'display_data';\n",
              "        await google.colab.output.renderOutput(dataTable, element);\n",
              "        const docLink = document.createElement('div');\n",
              "        docLink.innerHTML = docLinkHtml;\n",
              "        element.appendChild(docLink);\n",
              "      }\n",
              "    </script>\n",
              "  </div>\n",
              "\n",
              "\n",
              "<div id=\"df-bc11369a-be5d-438f-97a3-9855bb861608\">\n",
              "  <button class=\"colab-df-quickchart\" onclick=\"quickchart('df-bc11369a-be5d-438f-97a3-9855bb861608')\"\n",
              "            title=\"Suggest charts\"\n",
              "            style=\"display:none;\">\n",
              "\n",
              "<svg xmlns=\"http://www.w3.org/2000/svg\" height=\"24px\"viewBox=\"0 0 24 24\"\n",
              "     width=\"24px\">\n",
              "    <g>\n",
              "        <path d=\"M19 3H5c-1.1 0-2 .9-2 2v14c0 1.1.9 2 2 2h14c1.1 0 2-.9 2-2V5c0-1.1-.9-2-2-2zM9 17H7v-7h2v7zm4 0h-2V7h2v10zm4 0h-2v-4h2v4z\"/>\n",
              "    </g>\n",
              "</svg>\n",
              "  </button>\n",
              "\n",
              "<style>\n",
              "  .colab-df-quickchart {\n",
              "      --bg-color: #E8F0FE;\n",
              "      --fill-color: #1967D2;\n",
              "      --hover-bg-color: #E2EBFA;\n",
              "      --hover-fill-color: #174EA6;\n",
              "      --disabled-fill-color: #AAA;\n",
              "      --disabled-bg-color: #DDD;\n",
              "  }\n",
              "\n",
              "  [theme=dark] .colab-df-quickchart {\n",
              "      --bg-color: #3B4455;\n",
              "      --fill-color: #D2E3FC;\n",
              "      --hover-bg-color: #434B5C;\n",
              "      --hover-fill-color: #FFFFFF;\n",
              "      --disabled-bg-color: #3B4455;\n",
              "      --disabled-fill-color: #666;\n",
              "  }\n",
              "\n",
              "  .colab-df-quickchart {\n",
              "    background-color: var(--bg-color);\n",
              "    border: none;\n",
              "    border-radius: 50%;\n",
              "    cursor: pointer;\n",
              "    display: none;\n",
              "    fill: var(--fill-color);\n",
              "    height: 32px;\n",
              "    padding: 0;\n",
              "    width: 32px;\n",
              "  }\n",
              "\n",
              "  .colab-df-quickchart:hover {\n",
              "    background-color: var(--hover-bg-color);\n",
              "    box-shadow: 0 1px 2px rgba(60, 64, 67, 0.3), 0 1px 3px 1px rgba(60, 64, 67, 0.15);\n",
              "    fill: var(--button-hover-fill-color);\n",
              "  }\n",
              "\n",
              "  .colab-df-quickchart-complete:disabled,\n",
              "  .colab-df-quickchart-complete:disabled:hover {\n",
              "    background-color: var(--disabled-bg-color);\n",
              "    fill: var(--disabled-fill-color);\n",
              "    box-shadow: none;\n",
              "  }\n",
              "\n",
              "  .colab-df-spinner {\n",
              "    border: 2px solid var(--fill-color);\n",
              "    border-color: transparent;\n",
              "    border-bottom-color: var(--fill-color);\n",
              "    animation:\n",
              "      spin 1s steps(1) infinite;\n",
              "  }\n",
              "\n",
              "  @keyframes spin {\n",
              "    0% {\n",
              "      border-color: transparent;\n",
              "      border-bottom-color: var(--fill-color);\n",
              "      border-left-color: var(--fill-color);\n",
              "    }\n",
              "    20% {\n",
              "      border-color: transparent;\n",
              "      border-left-color: var(--fill-color);\n",
              "      border-top-color: var(--fill-color);\n",
              "    }\n",
              "    30% {\n",
              "      border-color: transparent;\n",
              "      border-left-color: var(--fill-color);\n",
              "      border-top-color: var(--fill-color);\n",
              "      border-right-color: var(--fill-color);\n",
              "    }\n",
              "    40% {\n",
              "      border-color: transparent;\n",
              "      border-right-color: var(--fill-color);\n",
              "      border-top-color: var(--fill-color);\n",
              "    }\n",
              "    60% {\n",
              "      border-color: transparent;\n",
              "      border-right-color: var(--fill-color);\n",
              "    }\n",
              "    80% {\n",
              "      border-color: transparent;\n",
              "      border-right-color: var(--fill-color);\n",
              "      border-bottom-color: var(--fill-color);\n",
              "    }\n",
              "    90% {\n",
              "      border-color: transparent;\n",
              "      border-bottom-color: var(--fill-color);\n",
              "    }\n",
              "  }\n",
              "</style>\n",
              "\n",
              "  <script>\n",
              "    async function quickchart(key) {\n",
              "      const quickchartButtonEl =\n",
              "        document.querySelector('#' + key + ' button');\n",
              "      quickchartButtonEl.disabled = true;  // To prevent multiple clicks.\n",
              "      quickchartButtonEl.classList.add('colab-df-spinner');\n",
              "      try {\n",
              "        const charts = await google.colab.kernel.invokeFunction(\n",
              "            'suggestCharts', [key], {});\n",
              "      } catch (error) {\n",
              "        console.error('Error during call to suggestCharts:', error);\n",
              "      }\n",
              "      quickchartButtonEl.classList.remove('colab-df-spinner');\n",
              "      quickchartButtonEl.classList.add('colab-df-quickchart-complete');\n",
              "    }\n",
              "    (() => {\n",
              "      let quickchartButtonEl =\n",
              "        document.querySelector('#df-bc11369a-be5d-438f-97a3-9855bb861608 button');\n",
              "      quickchartButtonEl.style.display =\n",
              "        google.colab.kernel.accessAllowed ? 'block' : 'none';\n",
              "    })();\n",
              "  </script>\n",
              "</div>\n",
              "    </div>\n",
              "  </div>\n"
            ],
            "application/vnd.google.colaboratory.intrinsic+json": {
              "type": "dataframe",
              "variable_name": "data",
              "summary": "{\n  \"name\": \"data\",\n  \"rows\": 503,\n  \"fields\": [\n    {\n      \"column\": \"Nama_Produk\",\n      \"properties\": {\n        \"dtype\": \"category\",\n        \"num_unique_values\": 61,\n        \"samples\": [\n          \"Masker KF94 4 Ply Isi 10 Pcs Masker Medis Kesehatan Kemasan Plastik - Putih\",\n          \"Disposable Mask KN95 N95 Facemask Kesehatan Masker Wajah 5 Layer BNPB - EVO 1pcs\",\n          \"MASKER ICARE DUCKBILL EMBOSS EARLOOP 4PLY PREMIUM QUALITY 50PCS I CARE - PUTIH EMBOSS, IC DB SACHET 26\"\n        ],\n        \"semantic_type\": \"\",\n        \"description\": \"\"\n      }\n    },\n    {\n      \"column\": \"Akun\",\n      \"properties\": {\n        \"dtype\": \"string\",\n        \"num_unique_values\": 412,\n        \"samples\": [\n          \" A***e\",\n          \"Lesmono\",\n          \"Ramadhan\"\n        ],\n        \"semantic_type\": \"\",\n        \"description\": \"\"\n      }\n    },\n    {\n      \"column\": \"Ulasan\",\n      \"properties\": {\n        \"dtype\": \"string\",\n        \"num_unique_values\": 466,\n        \"samples\": [\n          \"barang terima\",\n          \"mantap jiwa moga harga turun\",\n          \"pesan masker warna hijau datang warna pink\"\n        ],\n        \"semantic_type\": \"\",\n        \"description\": \"\"\n      }\n    },\n    {\n      \"column\": \"rate\",\n      \"properties\": {\n        \"dtype\": \"number\",\n        \"std\": 1,\n        \"min\": 1,\n        \"max\": 5,\n        \"num_unique_values\": 5,\n        \"samples\": [\n          5,\n          1,\n          2\n        ],\n        \"semantic_type\": \"\",\n        \"description\": \"\"\n      }\n    },\n    {\n      \"column\": \"Ulasan_tokenize\",\n      \"properties\": {\n        \"dtype\": \"string\",\n        \"num_unique_values\": 468,\n        \"samples\": [\n          \"['manstap']\",\n          \"['packing', 'rapi', 'respon', 'cepat']\",\n          \"['barang', 'asli', 'evorecomended']\"\n        ],\n        \"semantic_type\": \"\",\n        \"description\": \"\"\n      }\n    },\n    {\n      \"column\": \"Ulasan_normalized\",\n      \"properties\": {\n        \"dtype\": \"string\",\n        \"num_unique_values\": 467,\n        \"samples\": [\n          \"['barang', 'terima']\",\n          \"['mantap', 'jiwa', 'moga', 'harga', 'turun']\",\n          \"['pesan', 'masker', 'warna', 'hijau', 'datang', 'warna', 'pink']\"\n        ],\n        \"semantic_type\": \"\",\n        \"description\": \"\"\n      }\n    },\n    {\n      \"column\": \"Ulasan_stop_removed\\t\",\n      \"properties\": {\n        \"dtype\": \"string\",\n        \"num_unique_values\": 468,\n        \"samples\": [\n          \"['sip', 'beli']\",\n          \"['ok']\",\n          \"['barang', 'asli', 'evorecomended']\"\n        ],\n        \"semantic_type\": \"\",\n        \"description\": \"\"\n      }\n    },\n    {\n      \"column\": \"Ulasan_Stemmed\",\n      \"properties\": {\n        \"dtype\": \"string\",\n        \"num_unique_values\": 468,\n        \"samples\": [\n          \"['sip', 'beli']\",\n          \"['ok']\",\n          \"['barang', 'asli', 'evorecomended']\"\n        ],\n        \"semantic_type\": \"\",\n        \"description\": \"\"\n      }\n    },\n    {\n      \"column\": \"Ulasan_clean\",\n      \"properties\": {\n        \"dtype\": \"string\",\n        \"num_unique_values\": 468,\n        \"samples\": [\n          \"mantap\",\n          \"packing rapi respon cepat\",\n          \"pesan masker warna hijau datang warna pink\"\n        ],\n        \"semantic_type\": \"\",\n        \"description\": \"\"\n      }\n    },\n    {\n      \"column\": \"label\",\n      \"properties\": {\n        \"dtype\": \"number\",\n        \"std\": 0,\n        \"min\": 0,\n        \"max\": 1,\n        \"num_unique_values\": 2,\n        \"samples\": [\n          1,\n          0\n        ],\n        \"semantic_type\": \"\",\n        \"description\": \"\"\n      }\n    }\n  ]\n}"
            }
          },
          "metadata": {},
          "execution_count": 7
        }
      ]
    },
    {
      "cell_type": "code",
      "source": [
        "data[\"label\"].value_counts()"
      ],
      "metadata": {
        "id": "7Z6f7VYALKS9",
        "outputId": "f62790c6-17ad-468b-aba4-8cca44662211",
        "papermill": {
          "duration": null,
          "end_time": null,
          "exception": null,
          "start_time": null,
          "status": "pending"
        },
        "tags": [],
        "execution": {
          "iopub.status.busy": "2023-07-13T06:53:56.697219Z",
          "iopub.execute_input": "2023-07-13T06:53:56.69769Z",
          "iopub.status.idle": "2023-07-13T06:53:56.706252Z",
          "shell.execute_reply.started": "2023-07-13T06:53:56.697657Z",
          "shell.execute_reply": "2023-07-13T06:53:56.705035Z"
        },
        "trusted": true,
        "colab": {
          "base_uri": "https://localhost:8080/"
        }
      },
      "execution_count": 8,
      "outputs": [
        {
          "output_type": "execute_result",
          "data": {
            "text/plain": [
              "label\n",
              "1    414\n",
              "0     89\n",
              "Name: count, dtype: int64"
            ]
          },
          "metadata": {},
          "execution_count": 8
        }
      ]
    },
    {
      "cell_type": "markdown",
      "source": [
        "# Menghitung Kata Dengan TF-IDF\n",
        "TF-IDF (Term Frequency-Inverse Document Frequency) adalah metode yang digunakan dalam pemrosesan bahasa alami untuk memberikan bobot pada kata-kata dalam sebuah dokumen atau korpus teks. Metode ini mengukur seberapa penting sebuah kata dalam suatu dokumen atau korpus berdasarkan frekuensi kemunculan kata tersebut dalam dokumen tersebut serta sejauh mana kata tersebut umum atau jarang muncul dalam seluruh korpus."
      ],
      "metadata": {
        "id": "-dL5Z4sYJJLf",
        "papermill": {
          "duration": null,
          "end_time": null,
          "exception": null,
          "start_time": null,
          "status": "pending"
        },
        "tags": []
      }
    },
    {
      "cell_type": "code",
      "source": [
        "from sklearn.feature_extraction.text import CountVectorizer, TfidfTransformer"
      ],
      "metadata": {
        "id": "WDspP7HlJIQw",
        "papermill": {
          "duration": null,
          "end_time": null,
          "exception": null,
          "start_time": null,
          "status": "pending"
        },
        "tags": [],
        "execution": {
          "iopub.status.busy": "2023-07-13T06:53:56.707812Z",
          "iopub.execute_input": "2023-07-13T06:53:56.708282Z",
          "iopub.status.idle": "2023-07-13T06:53:56.719864Z",
          "shell.execute_reply.started": "2023-07-13T06:53:56.708243Z",
          "shell.execute_reply": "2023-07-13T06:53:56.718522Z"
        },
        "trusted": true
      },
      "execution_count": null,
      "outputs": []
    },
    {
      "cell_type": "code",
      "source": [
        "Ulasan = data['Ulasan_clean']"
      ],
      "metadata": {
        "id": "5awBh8iVJBHK",
        "papermill": {
          "duration": null,
          "end_time": null,
          "exception": null,
          "start_time": null,
          "status": "pending"
        },
        "tags": [],
        "execution": {
          "iopub.status.busy": "2023-07-13T06:53:56.72192Z",
          "iopub.execute_input": "2023-07-13T06:53:56.722415Z",
          "iopub.status.idle": "2023-07-13T06:53:56.730973Z",
          "shell.execute_reply.started": "2023-07-13T06:53:56.722368Z",
          "shell.execute_reply": "2023-07-13T06:53:56.729792Z"
        },
        "trusted": true
      },
      "execution_count": null,
      "outputs": []
    },
    {
      "cell_type": "code",
      "source": [
        "Ulasan.isnull().sum()"
      ],
      "metadata": {
        "id": "xeiWpO5CKLfU",
        "papermill": {
          "duration": null,
          "end_time": null,
          "exception": null,
          "start_time": null,
          "status": "pending"
        },
        "tags": [],
        "execution": {
          "iopub.status.busy": "2023-07-13T06:53:56.73256Z",
          "iopub.execute_input": "2023-07-13T06:53:56.732976Z",
          "iopub.status.idle": "2023-07-13T06:53:56.745278Z",
          "shell.execute_reply.started": "2023-07-13T06:53:56.732936Z",
          "shell.execute_reply": "2023-07-13T06:53:56.744409Z"
        },
        "trusted": true
      },
      "execution_count": null,
      "outputs": []
    },
    {
      "cell_type": "code",
      "source": [
        "Ulasan = Ulasan.fillna('tidak ada komentar')"
      ],
      "metadata": {
        "id": "6Jh6pAVBKdb_",
        "papermill": {
          "duration": null,
          "end_time": null,
          "exception": null,
          "start_time": null,
          "status": "pending"
        },
        "tags": [],
        "execution": {
          "iopub.status.busy": "2023-07-13T06:53:56.751779Z",
          "iopub.execute_input": "2023-07-13T06:53:56.752169Z",
          "iopub.status.idle": "2023-07-13T06:53:56.758005Z",
          "shell.execute_reply.started": "2023-07-13T06:53:56.752136Z",
          "shell.execute_reply": "2023-07-13T06:53:56.756883Z"
        },
        "trusted": true
      },
      "execution_count": null,
      "outputs": []
    },
    {
      "cell_type": "code",
      "source": [
        "#untuk menghitung jumlah kata yang telah di steming\n",
        "cv = CountVectorizer()\n",
        "term_fit = cv.fit(Ulasan)\n",
        "\n",
        "print (len(term_fit.vocabulary_))"
      ],
      "metadata": {
        "id": "Mdw0d0wFKChV",
        "papermill": {
          "duration": null,
          "end_time": null,
          "exception": null,
          "start_time": null,
          "status": "pending"
        },
        "tags": [],
        "execution": {
          "iopub.status.busy": "2023-07-13T06:53:56.759337Z",
          "iopub.execute_input": "2023-07-13T06:53:56.759782Z",
          "iopub.status.idle": "2023-07-13T06:53:56.780471Z",
          "shell.execute_reply.started": "2023-07-13T06:53:56.75975Z",
          "shell.execute_reply": "2023-07-13T06:53:56.779679Z"
        },
        "trusted": true
      },
      "execution_count": null,
      "outputs": []
    },
    {
      "cell_type": "code",
      "source": [
        "term_fit.vocabulary_ #mengurutkan berdasarkan urutab abjad kata"
      ],
      "metadata": {
        "id": "JZ25a7ZkKkl8",
        "papermill": {
          "duration": null,
          "end_time": null,
          "exception": null,
          "start_time": null,
          "status": "pending"
        },
        "tags": [],
        "execution": {
          "iopub.status.busy": "2023-07-13T06:53:56.781827Z",
          "iopub.execute_input": "2023-07-13T06:53:56.782207Z",
          "iopub.status.idle": "2023-07-13T06:53:56.825714Z",
          "shell.execute_reply.started": "2023-07-13T06:53:56.782176Z",
          "shell.execute_reply": "2023-07-13T06:53:56.824434Z"
        },
        "trusted": true
      },
      "execution_count": null,
      "outputs": []
    },
    {
      "cell_type": "code",
      "source": [
        "#kolom pertama ini berarti jumlah dokumen\n",
        "#kolom kedua berarti letak katanya\n",
        "#kolom ketiga hasil dari tf\n",
        "\n",
        "term_frequency_all = term_fit.transform(Ulasan)\n",
        "print (term_frequency_all)"
      ],
      "metadata": {
        "id": "qRdJ7bgqKl7W",
        "papermill": {
          "duration": null,
          "end_time": null,
          "exception": null,
          "start_time": null,
          "status": "pending"
        },
        "tags": [],
        "execution": {
          "iopub.status.busy": "2023-07-13T06:53:56.827529Z",
          "iopub.execute_input": "2023-07-13T06:53:56.827983Z",
          "iopub.status.idle": "2023-07-13T06:53:56.841266Z",
          "shell.execute_reply.started": "2023-07-13T06:53:56.827941Z",
          "shell.execute_reply": "2023-07-13T06:53:56.839741Z"
        },
        "trusted": true
      },
      "execution_count": null,
      "outputs": []
    },
    {
      "cell_type": "code",
      "source": [
        "ulasan_tf = Ulasan[1] #memanggil kata pada index ke 1\n",
        "print (ulasan_tf)"
      ],
      "metadata": {
        "id": "vEdNicLRKqa5",
        "papermill": {
          "duration": null,
          "end_time": null,
          "exception": null,
          "start_time": null,
          "status": "pending"
        },
        "tags": [],
        "execution": {
          "iopub.status.busy": "2023-07-13T06:53:56.842673Z",
          "iopub.execute_input": "2023-07-13T06:53:56.843075Z",
          "iopub.status.idle": "2023-07-13T06:53:56.853634Z",
          "shell.execute_reply.started": "2023-07-13T06:53:56.843043Z",
          "shell.execute_reply": "2023-07-13T06:53:56.852456Z"
        },
        "trusted": true
      },
      "execution_count": null,
      "outputs": []
    },
    {
      "cell_type": "code",
      "source": [
        "term_frequency = term_fit.transform([ulasan_tf]) #hanya menampilkan hasil document 1\n",
        "print (term_frequency)"
      ],
      "metadata": {
        "id": "rj0-LzN9KsEo",
        "papermill": {
          "duration": null,
          "end_time": null,
          "exception": null,
          "start_time": null,
          "status": "pending"
        },
        "tags": [],
        "execution": {
          "iopub.status.busy": "2023-07-13T06:53:56.855049Z",
          "iopub.execute_input": "2023-07-13T06:53:56.855378Z",
          "iopub.status.idle": "2023-07-13T06:53:56.865933Z",
          "shell.execute_reply.started": "2023-07-13T06:53:56.85535Z",
          "shell.execute_reply": "2023-07-13T06:53:56.865103Z"
        },
        "trusted": true
      },
      "execution_count": null,
      "outputs": []
    },
    {
      "cell_type": "code",
      "source": [
        "dokumen = term_fit.transform(Ulasan) #hasil perhitungan tf idf dalam 1 doc\n",
        "tfidf_transformer = TfidfTransformer().fit(dokumen)\n",
        "print (tfidf_transformer.idf_)\n",
        "\n",
        "tfidf=tfidf_transformer.transform(term_frequency)\n",
        "print (tfidf) #hasil manual dengan sistem pyhton"
      ],
      "metadata": {
        "id": "Y0PgyiBoKuEu",
        "papermill": {
          "duration": null,
          "end_time": null,
          "exception": null,
          "start_time": null,
          "status": "pending"
        },
        "tags": [],
        "execution": {
          "iopub.status.busy": "2023-07-13T06:53:56.866911Z",
          "iopub.execute_input": "2023-07-13T06:53:56.867213Z",
          "iopub.status.idle": "2023-07-13T06:53:56.897158Z",
          "shell.execute_reply.started": "2023-07-13T06:53:56.867187Z",
          "shell.execute_reply": "2023-07-13T06:53:56.895725Z"
        },
        "trusted": true
      },
      "execution_count": null,
      "outputs": []
    },
    {
      "cell_type": "markdown",
      "source": [
        "# NLP (Natural Language Processing)\n",
        "Dalam NLP, komputer menggunakan teknik-teknik seperti tokenisasi (pemisahan teks menjadi unit-unit yang lebih kecil seperti kata-kata), analisis morfologi (memahami struktur kata), analisis sintaksis (memahami struktur kalimat), analisis semantik (memahami makna teks), dan analisis pragmatik (memahami konteks dan tujuan teks)."
      ],
      "metadata": {
        "id": "FucrAd_mLU7m",
        "papermill": {
          "duration": null,
          "end_time": null,
          "exception": null,
          "start_time": null,
          "status": "pending"
        },
        "tags": []
      }
    },
    {
      "cell_type": "code",
      "source": [
        "data_label = data[[\"Nama_Produk\", \"Akun\", \"Ulasan_clean\", \"label\"]]"
      ],
      "metadata": {
        "id": "YE9tXD1SPx0F",
        "papermill": {
          "duration": null,
          "end_time": null,
          "exception": null,
          "start_time": null,
          "status": "pending"
        },
        "tags": [],
        "execution": {
          "iopub.status.busy": "2023-07-13T06:53:56.898979Z",
          "iopub.execute_input": "2023-07-13T06:53:56.899363Z",
          "iopub.status.idle": "2023-07-13T06:53:56.907248Z",
          "shell.execute_reply.started": "2023-07-13T06:53:56.899332Z",
          "shell.execute_reply": "2023-07-13T06:53:56.905896Z"
        },
        "trusted": true
      },
      "execution_count": null,
      "outputs": []
    },
    {
      "cell_type": "code",
      "source": [
        "data_label[\"Ulasan_clean\"] = data_label[\"Ulasan_clean\"].fillna(\"tidak ada komentar\")"
      ],
      "metadata": {
        "id": "gGxHBBpPcHyN",
        "papermill": {
          "duration": null,
          "end_time": null,
          "exception": null,
          "start_time": null,
          "status": "pending"
        },
        "tags": [],
        "execution": {
          "iopub.status.busy": "2023-07-13T06:53:56.90879Z",
          "iopub.execute_input": "2023-07-13T06:53:56.909727Z",
          "iopub.status.idle": "2023-07-13T06:53:56.922491Z",
          "shell.execute_reply.started": "2023-07-13T06:53:56.909679Z",
          "shell.execute_reply": "2023-07-13T06:53:56.921217Z"
        },
        "trusted": true
      },
      "execution_count": null,
      "outputs": []
    },
    {
      "cell_type": "code",
      "source": [
        "data_label.to_excel(\"data_label.xlsx\")"
      ],
      "metadata": {
        "id": "km4rAC9ncGpc",
        "papermill": {
          "duration": null,
          "end_time": null,
          "exception": null,
          "start_time": null,
          "status": "pending"
        },
        "tags": [],
        "execution": {
          "iopub.status.busy": "2023-07-13T06:53:56.925874Z",
          "iopub.execute_input": "2023-07-13T06:53:56.926519Z",
          "iopub.status.idle": "2023-07-13T06:53:57.077623Z",
          "shell.execute_reply.started": "2023-07-13T06:53:56.926476Z",
          "shell.execute_reply": "2023-07-13T06:53:57.076537Z"
        },
        "trusted": true
      },
      "execution_count": null,
      "outputs": []
    },
    {
      "cell_type": "markdown",
      "source": [
        "# Sentimen Data Ulasan"
      ],
      "metadata": {
        "papermill": {
          "duration": null,
          "end_time": null,
          "exception": null,
          "start_time": null,
          "status": "pending"
        },
        "tags": [],
        "id": "d4Sl6_vj8pCJ"
      }
    },
    {
      "cell_type": "code",
      "source": [
        "sentimen_data=pd.value_counts(data_label[\"label\"], sort= True)\n",
        "sentimen_data.plot(kind= 'bar', color= [\"green\", \"red\"])\n",
        "plt.title('Sentimen Ulasan Positif dan Negatif')\n",
        "plt.show()"
      ],
      "metadata": {
        "id": "lhWwaWXPdmNs",
        "papermill": {
          "duration": null,
          "end_time": null,
          "exception": null,
          "start_time": null,
          "status": "pending"
        },
        "tags": [],
        "execution": {
          "iopub.status.busy": "2023-07-13T06:53:57.078854Z",
          "iopub.execute_input": "2023-07-13T06:53:57.07954Z",
          "iopub.status.idle": "2023-07-13T06:53:57.35736Z",
          "shell.execute_reply.started": "2023-07-13T06:53:57.079507Z",
          "shell.execute_reply": "2023-07-13T06:53:57.356367Z"
        },
        "trusted": true
      },
      "execution_count": null,
      "outputs": []
    },
    {
      "cell_type": "markdown",
      "source": [
        "Dapat dilihat bahwa isi ulasan produk lebih banyak pada label sentimen 1 atau ulasan dengan rating postitif ini berarti pelanggan yang menggunakan marketplace Tokopedia dan melakukan transaksi pembelian pada produk masker Kesehatan merasa puas bertansaksi di marketplace Tokopedia dan prosuk masker Kesehatan sehingga memberikan feedback atau ulasan komentar lebih banyak yang positif."
      ],
      "metadata": {
        "papermill": {
          "duration": null,
          "end_time": null,
          "exception": null,
          "start_time": null,
          "status": "pending"
        },
        "tags": [],
        "id": "CkJ6qqsq8pCL"
      }
    },
    {
      "cell_type": "code",
      "source": [
        "from wordcloud import WordCloud"
      ],
      "metadata": {
        "id": "w4AMa4-8LgOf",
        "papermill": {
          "duration": null,
          "end_time": null,
          "exception": null,
          "start_time": null,
          "status": "pending"
        },
        "tags": [],
        "execution": {
          "iopub.status.busy": "2023-07-13T06:53:57.358533Z",
          "iopub.execute_input": "2023-07-13T06:53:57.359565Z",
          "iopub.status.idle": "2023-07-13T06:53:57.365141Z",
          "shell.execute_reply.started": "2023-07-13T06:53:57.359518Z",
          "shell.execute_reply": "2023-07-13T06:53:57.363872Z"
        },
        "trusted": true
      },
      "execution_count": null,
      "outputs": []
    },
    {
      "cell_type": "markdown",
      "source": [
        "# **Ulasan Negatif**"
      ],
      "metadata": {
        "papermill": {
          "duration": null,
          "end_time": null,
          "exception": null,
          "start_time": null,
          "status": "pending"
        },
        "tags": [],
        "id": "g1QFWYJu8pCL"
      }
    },
    {
      "cell_type": "code",
      "source": [
        "train_s0 = data_label[data_label[\"label\"] == 0]"
      ],
      "metadata": {
        "id": "1cCT4xRORqIX",
        "papermill": {
          "duration": null,
          "end_time": null,
          "exception": null,
          "start_time": null,
          "status": "pending"
        },
        "tags": [],
        "execution": {
          "iopub.status.busy": "2023-07-13T06:53:57.36706Z",
          "iopub.execute_input": "2023-07-13T06:53:57.367527Z",
          "iopub.status.idle": "2023-07-13T06:53:57.38091Z",
          "shell.execute_reply.started": "2023-07-13T06:53:57.367476Z",
          "shell.execute_reply": "2023-07-13T06:53:57.379374Z"
        },
        "trusted": true
      },
      "execution_count": null,
      "outputs": []
    },
    {
      "cell_type": "code",
      "source": [
        "train_s0[\"Ulasan_clean\"] = train_s0[\"Ulasan_clean\"].fillna(\"tidak ada komentar\")"
      ],
      "metadata": {
        "id": "rJzl756DQ6l3",
        "papermill": {
          "duration": null,
          "end_time": null,
          "exception": null,
          "start_time": null,
          "status": "pending"
        },
        "tags": [],
        "execution": {
          "iopub.status.busy": "2023-07-13T06:53:57.382158Z",
          "iopub.execute_input": "2023-07-13T06:53:57.382597Z",
          "iopub.status.idle": "2023-07-13T06:53:57.39649Z",
          "shell.execute_reply.started": "2023-07-13T06:53:57.382564Z",
          "shell.execute_reply": "2023-07-13T06:53:57.394875Z"
        },
        "trusted": true
      },
      "execution_count": null,
      "outputs": []
    },
    {
      "cell_type": "code",
      "source": [
        "train_s0"
      ],
      "metadata": {
        "id": "0oG27WWjRSmc",
        "papermill": {
          "duration": null,
          "end_time": null,
          "exception": null,
          "start_time": null,
          "status": "pending"
        },
        "tags": [],
        "execution": {
          "iopub.status.busy": "2023-07-13T06:53:57.398346Z",
          "iopub.execute_input": "2023-07-13T06:53:57.398805Z",
          "iopub.status.idle": "2023-07-13T06:53:57.418479Z",
          "shell.execute_reply.started": "2023-07-13T06:53:57.398764Z",
          "shell.execute_reply": "2023-07-13T06:53:57.417245Z"
        },
        "trusted": true
      },
      "execution_count": null,
      "outputs": []
    },
    {
      "cell_type": "markdown",
      "source": [
        "# Visualisasi Data Ulasan Negatif"
      ],
      "metadata": {
        "papermill": {
          "duration": null,
          "end_time": null,
          "exception": null,
          "start_time": null,
          "status": "pending"
        },
        "tags": [],
        "id": "Ni1cr1uh8pCO"
      }
    },
    {
      "cell_type": "code",
      "source": [
        "all_text_s0 = ' '.join(word for word in train_s0[\"Ulasan_clean\"])\n",
        "wordcloud = WordCloud(colormap='Reds', width=1000, height=1000, mode='RGBA', background_color='white').generate(all_text_s0)\n",
        "plt.figure(figsize=(20,10))\n",
        "plt.imshow(wordcloud, interpolation='bilinear')\n",
        "plt.axis(\"off\")\n",
        "plt.margins(x=0, y=0)\n",
        "plt.show()"
      ],
      "metadata": {
        "id": "0mTfe0q-Lij3",
        "papermill": {
          "duration": null,
          "end_time": null,
          "exception": null,
          "start_time": null,
          "status": "pending"
        },
        "tags": [],
        "execution": {
          "iopub.status.busy": "2023-07-13T06:53:57.420318Z",
          "iopub.execute_input": "2023-07-13T06:53:57.420788Z",
          "iopub.status.idle": "2023-07-13T06:53:59.957384Z",
          "shell.execute_reply.started": "2023-07-13T06:53:57.420749Z",
          "shell.execute_reply": "2023-07-13T06:53:59.956112Z"
        },
        "trusted": true
      },
      "execution_count": null,
      "outputs": []
    },
    {
      "cell_type": "markdown",
      "source": [
        "**Penjelasan**\n",
        "> Dari visualisasi diatas merupakan wordcloud kata yang paling banyak muncul pada isi ulasan yang memiliki label sentimen negatif. Kata yang paling sering muncul dan mengarah ke ulasan negatif membahas seputar : tali, masker, kualitas, barang, harga, kotak, penyok, box, dus, tipis, putus, sobek, kualitas, karet, bolong dan sebagainya. Sehingga dari kata-kata ini bisa menjadi masukan untuk penjual dan marketplace Tokopedia untuk meningkatkan kualitas barang (produk masker kesehatan), harga, kualitas pengiriman atau pengemasan, serta kualitas produk masker Kesehatan yang paling banyak disebutkan pelanggan dalam hasil Analisa ulasan sentimen yang negatif."
      ],
      "metadata": {
        "papermill": {
          "duration": null,
          "end_time": null,
          "exception": null,
          "start_time": null,
          "status": "pending"
        },
        "tags": [],
        "id": "mBqK91iQ8pCV"
      }
    },
    {
      "cell_type": "markdown",
      "source": [
        "# **Ulasan Positif**"
      ],
      "metadata": {
        "papermill": {
          "duration": null,
          "end_time": null,
          "exception": null,
          "start_time": null,
          "status": "pending"
        },
        "tags": [],
        "id": "54YvbhX-8pCW"
      }
    },
    {
      "cell_type": "code",
      "source": [
        "train_s1 = data_label[data_label[\"label\"] == 1]"
      ],
      "metadata": {
        "id": "UKEuroQNR3oX",
        "papermill": {
          "duration": null,
          "end_time": null,
          "exception": null,
          "start_time": null,
          "status": "pending"
        },
        "tags": [],
        "execution": {
          "iopub.status.busy": "2023-07-13T06:53:59.95919Z",
          "iopub.execute_input": "2023-07-13T06:53:59.959596Z",
          "iopub.status.idle": "2023-07-13T06:53:59.966259Z",
          "shell.execute_reply.started": "2023-07-13T06:53:59.959563Z",
          "shell.execute_reply": "2023-07-13T06:53:59.965101Z"
        },
        "trusted": true
      },
      "execution_count": null,
      "outputs": []
    },
    {
      "cell_type": "code",
      "source": [
        "train_s1[\"Ulasan_clean\"] = train_s1[\"Ulasan_clean\"].fillna(\"tidak ada komentar\")"
      ],
      "metadata": {
        "id": "TMcPDBvsR6wg",
        "papermill": {
          "duration": null,
          "end_time": null,
          "exception": null,
          "start_time": null,
          "status": "pending"
        },
        "tags": [],
        "execution": {
          "iopub.status.busy": "2023-07-13T06:53:59.967621Z",
          "iopub.execute_input": "2023-07-13T06:53:59.967967Z",
          "iopub.status.idle": "2023-07-13T06:53:59.983714Z",
          "shell.execute_reply.started": "2023-07-13T06:53:59.967925Z",
          "shell.execute_reply": "2023-07-13T06:53:59.982488Z"
        },
        "trusted": true
      },
      "execution_count": null,
      "outputs": []
    },
    {
      "cell_type": "code",
      "source": [
        "train_s1"
      ],
      "metadata": {
        "id": "fAUJMYU6R9hc",
        "papermill": {
          "duration": null,
          "end_time": null,
          "exception": null,
          "start_time": null,
          "status": "pending"
        },
        "tags": [],
        "execution": {
          "iopub.status.busy": "2023-07-13T06:53:59.991041Z",
          "iopub.execute_input": "2023-07-13T06:53:59.991489Z",
          "iopub.status.idle": "2023-07-13T06:54:00.007721Z",
          "shell.execute_reply.started": "2023-07-13T06:53:59.991439Z",
          "shell.execute_reply": "2023-07-13T06:54:00.006376Z"
        },
        "trusted": true
      },
      "execution_count": null,
      "outputs": []
    },
    {
      "cell_type": "markdown",
      "source": [
        "# Visualisasi Data Ulasan Positif"
      ],
      "metadata": {
        "papermill": {
          "duration": null,
          "end_time": null,
          "exception": null,
          "start_time": null,
          "status": "pending"
        },
        "tags": [],
        "id": "yZvrQhzg8pCX"
      }
    },
    {
      "cell_type": "code",
      "source": [
        "all_text_s1 = ' '.join(word for word in train_s1[\"Ulasan_clean\"])\n",
        "wordcloud = WordCloud(colormap='Blues', width=1000, height=1000, mode='RGBA', background_color='white').generate(all_text_s1)\n",
        "plt.figure(figsize=(20,10))\n",
        "plt.imshow(wordcloud, interpolation='bilinear')\n",
        "plt.axis(\"off\")\n",
        "plt.title(\"Ulasan Positif\")\n",
        "plt.margins(x=0, y=0)\n",
        "plt.show()"
      ],
      "metadata": {
        "id": "GQsa6RWeMAfS",
        "papermill": {
          "duration": null,
          "end_time": null,
          "exception": null,
          "start_time": null,
          "status": "pending"
        },
        "tags": [],
        "execution": {
          "iopub.status.busy": "2023-07-13T06:54:00.009208Z",
          "iopub.execute_input": "2023-07-13T06:54:00.009595Z",
          "iopub.status.idle": "2023-07-13T06:54:02.620017Z",
          "shell.execute_reply.started": "2023-07-13T06:54:00.009561Z",
          "shell.execute_reply": "2023-07-13T06:54:02.618937Z"
        },
        "trusted": true
      },
      "execution_count": null,
      "outputs": []
    },
    {
      "cell_type": "markdown",
      "source": [
        "**Penjelasan**\n",
        "> Dari visualisasi diatas merupakan wordcloud kata yang paling banyak muncul pada ulasan yang memiliki label sentimen positif. Kata yang paling sering muncul dan mengarah ke ulasan positif membahas seputar : barang, bagus,cepat, masker,terima kasih, kualitas, sesuai, rapi, respon, aman, recommended, dan sebagainya. Sehingga dari kata-kata ini bisa menjadi masukan untuk penjual dan marketplace Tokopedia untuk menjaga kualitas atau meningkatkan kembali kualitas barang (produk masker kesehatan), kualitas yang sesuai dan aman, serta respon penjual paling banyak disebutkan pelanggan dalam hasil Analisa ulasan sentimen yang positif."
      ],
      "metadata": {
        "papermill": {
          "duration": null,
          "end_time": null,
          "exception": null,
          "start_time": null,
          "status": "pending"
        },
        "tags": [],
        "id": "TyaK1bOe8pCY"
      }
    },
    {
      "cell_type": "markdown",
      "source": [
        "# Menyiapkan Data Train dan Test"
      ],
      "metadata": {
        "id": "mbkSaxDeSP9r",
        "papermill": {
          "duration": null,
          "end_time": null,
          "exception": null,
          "start_time": null,
          "status": "pending"
        },
        "tags": []
      }
    },
    {
      "cell_type": "markdown",
      "source": [
        "Pada proses ini kami menggunakan library sklearn.model_selection dengan modul train_test _split untuk membagi data latih (X_train dan y_train) dan data uji (X_test dan y_test) dengan persentasi data latih 90% dan data uji 10% serta memilih label data yaitu yang merupakan variable independen dari data yaitu kolom label untuk dijadikan parameter klasifikasi prediksi."
      ],
      "metadata": {
        "papermill": {
          "duration": null,
          "end_time": null,
          "exception": null,
          "start_time": null,
          "status": "pending"
        },
        "tags": [],
        "id": "YIWyJjaP8pCY"
      }
    },
    {
      "cell_type": "code",
      "source": [
        "data_label['Ulasan_clean'] = data_label['Ulasan_clean'].fillna(\"tidak ada komentar\")"
      ],
      "metadata": {
        "id": "S4poQRsIVFU_",
        "papermill": {
          "duration": null,
          "end_time": null,
          "exception": null,
          "start_time": null,
          "status": "pending"
        },
        "tags": [],
        "execution": {
          "iopub.status.busy": "2023-07-13T06:54:02.621583Z",
          "iopub.execute_input": "2023-07-13T06:54:02.622759Z",
          "iopub.status.idle": "2023-07-13T06:54:02.63137Z",
          "shell.execute_reply.started": "2023-07-13T06:54:02.622716Z",
          "shell.execute_reply": "2023-07-13T06:54:02.629851Z"
        },
        "trusted": true
      },
      "execution_count": null,
      "outputs": []
    },
    {
      "cell_type": "code",
      "source": [
        "from sklearn.model_selection import train_test_split\n",
        "\n",
        "X_train, X_test, y_train, y_test = train_test_split(data_label['Ulasan_clean'], data_label['label'],\n",
        "                                                    test_size=0.1, stratify=data_label['label'], random_state=30)"
      ],
      "metadata": {
        "id": "6jk0v56FSSN1",
        "papermill": {
          "duration": null,
          "end_time": null,
          "exception": null,
          "start_time": null,
          "status": "pending"
        },
        "tags": [],
        "execution": {
          "iopub.status.busy": "2023-07-13T06:54:02.633323Z",
          "iopub.execute_input": "2023-07-13T06:54:02.633788Z",
          "iopub.status.idle": "2023-07-13T06:54:02.644577Z",
          "shell.execute_reply.started": "2023-07-13T06:54:02.633753Z",
          "shell.execute_reply": "2023-07-13T06:54:02.643332Z"
        },
        "trusted": true
      },
      "execution_count": null,
      "outputs": []
    },
    {
      "cell_type": "markdown",
      "source": [
        "# TF-IDF(term frequency–inverse document)"
      ],
      "metadata": {
        "id": "OOmOKDwNSW6y",
        "papermill": {
          "duration": null,
          "end_time": null,
          "exception": null,
          "start_time": null,
          "status": "pending"
        },
        "tags": []
      }
    },
    {
      "cell_type": "markdown",
      "source": [
        "Pada proses ini kami menggunakan pembobotan TF-IDF(term frequency–inverse document) untuk menghitung manual dengan menggunakan python pembobotan kata dalam dokumen data ulasan."
      ],
      "metadata": {
        "papermill": {
          "duration": null,
          "end_time": null,
          "exception": null,
          "start_time": null,
          "status": "pending"
        },
        "tags": [],
        "id": "uSSt4AYG8pCb"
      }
    },
    {
      "cell_type": "code",
      "source": [
        "import numpy as np"
      ],
      "metadata": {
        "id": "0y5ajwmnUjgQ",
        "papermill": {
          "duration": null,
          "end_time": null,
          "exception": null,
          "start_time": null,
          "status": "pending"
        },
        "tags": [],
        "execution": {
          "iopub.status.busy": "2023-07-13T06:54:02.646201Z",
          "iopub.execute_input": "2023-07-13T06:54:02.646565Z",
          "iopub.status.idle": "2023-07-13T06:54:02.657507Z",
          "shell.execute_reply.started": "2023-07-13T06:54:02.646535Z",
          "shell.execute_reply": "2023-07-13T06:54:02.655743Z"
        },
        "trusted": true
      },
      "execution_count": null,
      "outputs": []
    },
    {
      "cell_type": "code",
      "source": [
        "from sklearn.feature_extraction.text import TfidfVectorizer\n",
        "vectorizer = TfidfVectorizer(decode_error='replace', encoding='utf-8')"
      ],
      "metadata": {
        "id": "zi5SeJN-SaRo",
        "papermill": {
          "duration": null,
          "end_time": null,
          "exception": null,
          "start_time": null,
          "status": "pending"
        },
        "tags": [],
        "execution": {
          "iopub.status.busy": "2023-07-13T06:54:02.659741Z",
          "iopub.execute_input": "2023-07-13T06:54:02.660265Z",
          "iopub.status.idle": "2023-07-13T06:54:02.670201Z",
          "shell.execute_reply.started": "2023-07-13T06:54:02.660218Z",
          "shell.execute_reply": "2023-07-13T06:54:02.669149Z"
        },
        "trusted": true
      },
      "execution_count": null,
      "outputs": []
    },
    {
      "cell_type": "code",
      "source": [
        "X_train = vectorizer.fit_transform(X_train)\n",
        "X_test = vectorizer.transform(X_test)\n",
        "\n",
        "print(X_train.shape)\n",
        "print(X_test.shape)"
      ],
      "metadata": {
        "id": "kodlAhE_SdNH",
        "papermill": {
          "duration": null,
          "end_time": null,
          "exception": null,
          "start_time": null,
          "status": "pending"
        },
        "tags": [],
        "execution": {
          "iopub.status.busy": "2023-07-13T06:54:02.671366Z",
          "iopub.execute_input": "2023-07-13T06:54:02.671741Z",
          "iopub.status.idle": "2023-07-13T06:54:02.695829Z",
          "shell.execute_reply.started": "2023-07-13T06:54:02.671708Z",
          "shell.execute_reply": "2023-07-13T06:54:02.694345Z"
        },
        "trusted": true
      },
      "execution_count": null,
      "outputs": []
    },
    {
      "cell_type": "code",
      "source": [
        "X_train = X_train.toarray()"
      ],
      "metadata": {
        "papermill": {
          "duration": null,
          "end_time": null,
          "exception": null,
          "start_time": null,
          "status": "pending"
        },
        "tags": [],
        "execution": {
          "iopub.status.busy": "2023-07-13T06:54:02.697251Z",
          "iopub.execute_input": "2023-07-13T06:54:02.697644Z",
          "iopub.status.idle": "2023-07-13T06:54:02.704667Z",
          "shell.execute_reply.started": "2023-07-13T06:54:02.69761Z",
          "shell.execute_reply": "2023-07-13T06:54:02.703331Z"
        },
        "trusted": true,
        "id": "fyTYnKNb8pCg"
      },
      "execution_count": null,
      "outputs": []
    },
    {
      "cell_type": "code",
      "source": [
        "X_test = X_test.toarray()"
      ],
      "metadata": {
        "papermill": {
          "duration": null,
          "end_time": null,
          "exception": null,
          "start_time": null,
          "status": "pending"
        },
        "tags": [],
        "execution": {
          "iopub.status.busy": "2023-07-13T06:54:02.706728Z",
          "iopub.execute_input": "2023-07-13T06:54:02.707236Z",
          "iopub.status.idle": "2023-07-13T06:54:02.71738Z",
          "shell.execute_reply.started": "2023-07-13T06:54:02.707188Z",
          "shell.execute_reply": "2023-07-13T06:54:02.715816Z"
        },
        "trusted": true,
        "id": "47ovxTT58pCj"
      },
      "execution_count": null,
      "outputs": []
    },
    {
      "cell_type": "markdown",
      "source": [
        "# Machine Learning"
      ],
      "metadata": {
        "papermill": {
          "duration": null,
          "end_time": null,
          "exception": null,
          "start_time": null,
          "status": "pending"
        },
        "tags": [],
        "id": "-Q_7DAtW8pCm"
      }
    },
    {
      "cell_type": "code",
      "source": [
        "from sklearn.naive_bayes import GaussianNB\n",
        "\n",
        "nb = GaussianNB()"
      ],
      "metadata": {
        "papermill": {
          "duration": null,
          "end_time": null,
          "exception": null,
          "start_time": null,
          "status": "pending"
        },
        "tags": [],
        "execution": {
          "iopub.status.busy": "2023-07-13T06:54:02.71892Z",
          "iopub.execute_input": "2023-07-13T06:54:02.71947Z",
          "iopub.status.idle": "2023-07-13T06:54:02.730708Z",
          "shell.execute_reply.started": "2023-07-13T06:54:02.719398Z",
          "shell.execute_reply": "2023-07-13T06:54:02.729576Z"
        },
        "trusted": true,
        "id": "e1sHVaPK8pCo"
      },
      "execution_count": null,
      "outputs": []
    },
    {
      "cell_type": "code",
      "source": [
        "from sklearn.model_selection import RepeatedStratifiedKFold\n",
        "from sklearn.model_selection import GridSearchCV\n",
        "from sklearn.model_selection import StratifiedKFold\n",
        "\n",
        "#deklarasi metode cross validation\n",
        "cv_method = RepeatedStratifiedKFold(n_splits=5,  n_repeats=3, random_state=999)\n",
        "#tuning hyperparameter menggunakan gridsearch\n",
        "\n",
        "params_NB = {'var_smoothing': np.logspace(0,-9, num=100)}\n",
        "gscv_nb = GridSearchCV(estimator=nb,\n",
        "                 param_grid=params_NB,\n",
        "                 cv=cv_method,   # use any cross validation technique\n",
        "                 verbose=1,\n",
        "                 scoring='accuracy')\n",
        "\n",
        "#Fitting ke Model\n",
        "gscv_nb.fit(X_train,y_train)\n",
        "#mendapatkan hyperparameters terbaik\n",
        "gscv_nb.best_params_"
      ],
      "metadata": {
        "papermill": {
          "duration": null,
          "end_time": null,
          "exception": null,
          "start_time": null,
          "status": "pending"
        },
        "tags": [],
        "execution": {
          "iopub.status.busy": "2023-07-13T06:54:02.731998Z",
          "iopub.execute_input": "2023-07-13T06:54:02.733043Z",
          "iopub.status.idle": "2023-07-13T06:54:12.113878Z",
          "shell.execute_reply.started": "2023-07-13T06:54:02.733006Z",
          "shell.execute_reply": "2023-07-13T06:54:12.112705Z"
        },
        "trusted": true,
        "id": "kk5cWXnf8pCp"
      },
      "execution_count": null,
      "outputs": []
    },
    {
      "cell_type": "code",
      "source": [
        "nb = GaussianNB(var_smoothing=1.0)"
      ],
      "metadata": {
        "papermill": {
          "duration": null,
          "end_time": null,
          "exception": null,
          "start_time": null,
          "status": "pending"
        },
        "tags": [],
        "execution": {
          "iopub.status.busy": "2023-07-13T06:54:12.115448Z",
          "iopub.execute_input": "2023-07-13T06:54:12.11657Z",
          "iopub.status.idle": "2023-07-13T06:54:12.121161Z",
          "shell.execute_reply.started": "2023-07-13T06:54:12.116533Z",
          "shell.execute_reply": "2023-07-13T06:54:12.120072Z"
        },
        "trusted": true,
        "id": "Tpoh-DSz8pCp"
      },
      "execution_count": null,
      "outputs": []
    },
    {
      "cell_type": "code",
      "source": [
        "nb.fit(X_train, y_train)"
      ],
      "metadata": {
        "papermill": {
          "duration": null,
          "end_time": null,
          "exception": null,
          "start_time": null,
          "status": "pending"
        },
        "tags": [],
        "execution": {
          "iopub.status.busy": "2023-07-13T06:54:12.122691Z",
          "iopub.execute_input": "2023-07-13T06:54:12.123024Z",
          "iopub.status.idle": "2023-07-13T06:54:12.142663Z",
          "shell.execute_reply.started": "2023-07-13T06:54:12.122989Z",
          "shell.execute_reply": "2023-07-13T06:54:12.1415Z"
        },
        "trusted": true,
        "id": "MnpxD2QB8pCp"
      },
      "execution_count": null,
      "outputs": []
    },
    {
      "cell_type": "code",
      "source": [
        "y_pred_nb = nb.predict(X_test)"
      ],
      "metadata": {
        "papermill": {
          "duration": null,
          "end_time": null,
          "exception": null,
          "start_time": null,
          "status": "pending"
        },
        "tags": [],
        "execution": {
          "iopub.status.busy": "2023-07-13T06:54:12.144697Z",
          "iopub.execute_input": "2023-07-13T06:54:12.145328Z",
          "iopub.status.idle": "2023-07-13T06:54:12.152395Z",
          "shell.execute_reply.started": "2023-07-13T06:54:12.145285Z",
          "shell.execute_reply": "2023-07-13T06:54:12.151163Z"
        },
        "trusted": true,
        "id": "eSibOtYo8pCp"
      },
      "execution_count": null,
      "outputs": []
    },
    {
      "cell_type": "code",
      "source": [
        "from sklearn.metrics import confusion_matrix\n",
        "from sklearn.metrics import classification_report"
      ],
      "metadata": {
        "papermill": {
          "duration": null,
          "end_time": null,
          "exception": null,
          "start_time": null,
          "status": "pending"
        },
        "tags": [],
        "execution": {
          "iopub.status.busy": "2023-07-13T06:54:12.154274Z",
          "iopub.execute_input": "2023-07-13T06:54:12.154962Z",
          "iopub.status.idle": "2023-07-13T06:54:12.164828Z",
          "shell.execute_reply.started": "2023-07-13T06:54:12.154921Z",
          "shell.execute_reply": "2023-07-13T06:54:12.163508Z"
        },
        "trusted": true,
        "id": "XmJF4FP_8pCq"
      },
      "execution_count": null,
      "outputs": []
    },
    {
      "cell_type": "code",
      "source": [
        "from sklearn.svm import SVC  # contoh menggunakan SVM sebagai model\n",
        "\n",
        "# Inisialisasi model\n",
        "model = SVC()\n",
        "\n",
        "# Latih model dengan data latih\n",
        "model.fit(X_train, y_train)\n",
        "\n",
        "# Lakukan prediksi pada data latih\n",
        "y_pred_train = model.predict(X_train)\n",
        "\n",
        "# Hitung matriks kebingungan\n",
        "cm = confusion_matrix(y_train, y_pred_train)\n",
        "\n",
        "# Cetak matriks kebingungan\n",
        "print('Confusion matrix\\n\\n', cm)\n"
      ],
      "metadata": {
        "execution": {
          "iopub.status.busy": "2023-07-13T07:00:07.224386Z",
          "iopub.execute_input": "2023-07-13T07:00:07.224859Z",
          "iopub.status.idle": "2023-07-13T07:00:07.5048Z",
          "shell.execute_reply.started": "2023-07-13T07:00:07.224826Z",
          "shell.execute_reply": "2023-07-13T07:00:07.503867Z"
        },
        "trusted": true,
        "id": "zsx1z5ON8pCr"
      },
      "execution_count": null,
      "outputs": []
    },
    {
      "cell_type": "markdown",
      "source": [
        "# Classification Report"
      ],
      "metadata": {
        "papermill": {
          "duration": null,
          "end_time": null,
          "exception": null,
          "start_time": null,
          "status": "pending"
        },
        "tags": [],
        "id": "21FOPQTC8pCr"
      }
    },
    {
      "cell_type": "code",
      "source": [
        "print('--------------------- confusion matrix  ----------------------------')\n",
        "print(confusion_matrix(y_test, y_pred_nb))\n",
        "print('--------------------- classification report  ----------------------------')\n",
        "print(classification_report(y_test, y_pred_nb))"
      ],
      "metadata": {
        "papermill": {
          "duration": null,
          "end_time": null,
          "exception": null,
          "start_time": null,
          "status": "pending"
        },
        "tags": [],
        "execution": {
          "iopub.status.busy": "2023-07-13T06:54:12.166719Z",
          "iopub.execute_input": "2023-07-13T06:54:12.167519Z",
          "iopub.status.idle": "2023-07-13T06:54:12.191106Z",
          "shell.execute_reply.started": "2023-07-13T06:54:12.167475Z",
          "shell.execute_reply": "2023-07-13T06:54:12.189973Z"
        },
        "trusted": true,
        "id": "_j_P1SR88pCr"
      },
      "execution_count": null,
      "outputs": []
    },
    {
      "cell_type": "markdown",
      "source": [
        "Setelah dilakukan pembagian data latih dan data uji serta pembobotan tf-idf selanjutnya dapat dilakukan proses klasifikasi prediksi menggunakan model algoritma Naïve Bayes seperti proses yang ditunjukkan pada gambar 4. Didapatkan model algoritma Naïve Bayes dapat memberikan akurasi yang cukup baik sampai 86%."
      ],
      "metadata": {
        "papermill": {
          "duration": null,
          "end_time": null,
          "exception": null,
          "start_time": null,
          "status": "pending"
        },
        "tags": [],
        "id": "2quWp9Zu8pCs"
      }
    },
    {
      "cell_type": "markdown",
      "source": [
        "# **Kesimpulan**\n",
        "Dari hasil penelitian menggunakan Metode Algoritma Naïve Bayes untuk mengetahui sentimen ulasan pengguna dengan klasifikasi 2 kelas positif dan negative dengan pendekatan NLP menghasilkan nilai akurasi sebesar 86%. Selain itu, didapatkan bahwa Analisa Sentimen pada ulasan marketplace Tokopedia pada produk masker kesehatan menunjukan lebih banyak pada ulasan yang positif. Ini berarti pelayanan dan produk masker Kesehatan yang disediakan di marketplace Tokopedia sudah cukup baik.\n",
        "\n",
        "\n",
        "Dari hasil Analisis diatas dapat disimpulkan hasil scraping yang di dapat dari produk pencarian masker kesehatan pada Tokopedia menampilkan data yang menunjukan ulasan positif lebih dominan daripada hasil ulasan negatif dan untuk ulasan negatif kata yang paling sering muncul adalah seputar kualitas produk yang tipis,mudah putus, sobek atau bolong, kualitas karetnya dan  pada pengemasan yaitu kotak/dus penyok dan untuk analisa positif kata yang paling sering muncul adalah bagus, seputar kualitas produk yang sesuai dan rapi, pengiriman yang aman dan cepat dan respon penjual."
      ],
      "metadata": {
        "papermill": {
          "duration": null,
          "end_time": null,
          "exception": null,
          "start_time": null,
          "status": "pending"
        },
        "tags": [],
        "id": "DtVg7IRB8pCs"
      }
    },
    {
      "cell_type": "markdown",
      "source": [
        "# *Credit*\n",
        "**Zahra Maharani Aulia**"
      ],
      "metadata": {
        "papermill": {
          "duration": null,
          "end_time": null,
          "exception": null,
          "start_time": null,
          "status": "pending"
        },
        "tags": [],
        "id": "5D6jz6Vo8pCs"
      }
    }
  ]
}